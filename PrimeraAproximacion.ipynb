{
 "cells": [
  {
   "cell_type": "markdown",
   "metadata": {},
   "source": [
    "# Primera aproximación al modelo de aprendizaje automático de textos sexistas"
   ]
  },
  {
   "cell_type": "markdown",
   "metadata": {},
   "source": [
    "En esta primera aproximación realizaremos un entrenamiento con el dataset del que disponemos para obtener un resultado decente para la clasificación de textos machistas.\n",
    "\n",
    "El dataset en concreto cuenta con los siguientes datos:\n",
    "1. Id de la frase\n",
    "2. Dataset del que se ha extraido\n",
    "3. Texto (entrada que tendremos en el posterior uso)\n",
    "4. Toxicidad (posible salida de interés)\n",
    "5. Bandera de machista (Salida obligatoria)\n",
    "6. \"of_id\" (no aporta nada)\n",
    "\n",
    "Debemos construir un clasificador que de una forma u otra nos diga si un texto el cual vamos a analizar es machista o no, para ello usaremos las columnas de texto y la salida que será nuestra bandera. Usaremos un buen preprocesamiento para obtener los mejores resultados posibles."
   ]
  },
  {
   "cell_type": "markdown",
   "metadata": {},
   "source": [
    "## Imports y consideraciones previas"
   ]
  },
  {
   "cell_type": "code",
   "execution_count": 8,
   "metadata": {},
   "outputs": [],
   "source": [
    "# Imports de control de datasets\n",
    "import pandas as pd\n",
    "import numpy as np\n",
    "\n",
    "# Imports de preprocesamiento de textos\n",
    "import re\n",
    "from sklearn.feature_extraction.text import TfidfTransformer\n",
    "from sklearn.feature_extraction.text import CountVectorizer\n",
    "\n",
    "# Imports para el entrenamiento del modelo\n",
    "from sklearn.model_selection import train_test_split\n",
    "from sklearn.ensemble import RandomForestClassifier\n",
    "from sklearn.metrics import classification_report, confusion_matrix, accuracy_score\n",
    "\n",
    "# Guardar el modelo\n",
    "import pickle"
   ]
  },
  {
   "cell_type": "markdown",
   "metadata": {},
   "source": [
    "## Carga de datos y transformación del dataset"
   ]
  },
  {
   "cell_type": "code",
   "execution_count": 9,
   "metadata": {},
   "outputs": [
    {
     "data": {
      "text/html": [
       "<div>\n",
       "<style scoped>\n",
       "    .dataframe tbody tr th:only-of-type {\n",
       "        vertical-align: middle;\n",
       "    }\n",
       "\n",
       "    .dataframe tbody tr th {\n",
       "        vertical-align: top;\n",
       "    }\n",
       "\n",
       "    .dataframe thead th {\n",
       "        text-align: right;\n",
       "    }\n",
       "</style>\n",
       "<table border=\"1\" class=\"dataframe\">\n",
       "  <thead>\n",
       "    <tr style=\"text-align: right;\">\n",
       "      <th></th>\n",
       "      <th>id</th>\n",
       "      <th>dataset</th>\n",
       "      <th>text</th>\n",
       "      <th>toxicity</th>\n",
       "      <th>sexist</th>\n",
       "      <th>of_id</th>\n",
       "    </tr>\n",
       "  </thead>\n",
       "  <tbody>\n",
       "    <tr>\n",
       "      <th>0</th>\n",
       "      <td>0</td>\n",
       "      <td>other</td>\n",
       "      <td>MENTION3481 i didn't even know random was an option!</td>\n",
       "      <td>0.118180</td>\n",
       "      <td>False</td>\n",
       "      <td>-1</td>\n",
       "    </tr>\n",
       "    <tr>\n",
       "      <th>1</th>\n",
       "      <td>1</td>\n",
       "      <td>other</td>\n",
       "      <td>Bottom two should've gone!  #mkr</td>\n",
       "      <td>0.251850</td>\n",
       "      <td>False</td>\n",
       "      <td>-1</td>\n",
       "    </tr>\n",
       "    <tr>\n",
       "      <th>2</th>\n",
       "      <td>2</td>\n",
       "      <td>callme</td>\n",
       "      <td>MENTION3111 MENTION3424 ladyboner deserves so much more credit than dudeboner. #bonerdebate #reddetails</td>\n",
       "      <td>0.113331</td>\n",
       "      <td>False</td>\n",
       "      <td>-1</td>\n",
       "    </tr>\n",
       "    <tr>\n",
       "      <th>3</th>\n",
       "      <td>3</td>\n",
       "      <td>other</td>\n",
       "      <td>She shall now be known as Sourpuss #MKR #KatAndre #FailedFoodies</td>\n",
       "      <td>0.531153</td>\n",
       "      <td>False</td>\n",
       "      <td>-1</td>\n",
       "    </tr>\n",
       "    <tr>\n",
       "      <th>4</th>\n",
       "      <td>4</td>\n",
       "      <td>other</td>\n",
       "      <td>Tarah W threw a bunch of women under the bus so she could get Wadhwa's support for her Women in Tech book.</td>\n",
       "      <td>0.118718</td>\n",
       "      <td>False</td>\n",
       "      <td>-1</td>\n",
       "    </tr>\n",
       "    <tr>\n",
       "      <th>5</th>\n",
       "      <td>5</td>\n",
       "      <td>callme</td>\n",
       "      <td>I just don't trust an adult who uses coupons.</td>\n",
       "      <td>0.119590</td>\n",
       "      <td>False</td>\n",
       "      <td>13227</td>\n",
       "    </tr>\n",
       "    <tr>\n",
       "      <th>6</th>\n",
       "      <td>6</td>\n",
       "      <td>other</td>\n",
       "      <td>Not again #MKR</td>\n",
       "      <td>0.198415</td>\n",
       "      <td>False</td>\n",
       "      <td>-1</td>\n",
       "    </tr>\n",
       "    <tr>\n",
       "      <th>7</th>\n",
       "      <td>7</td>\n",
       "      <td>other</td>\n",
       "      <td>#MKR2016 returns in 2020 once the all the couples, intruders, gate crashers and second-chancers are eliminated MENTION786 #MKR #MKR2015</td>\n",
       "      <td>0.447262</td>\n",
       "      <td>False</td>\n",
       "      <td>-1</td>\n",
       "    </tr>\n",
       "    <tr>\n",
       "      <th>8</th>\n",
       "      <td>8</td>\n",
       "      <td>other</td>\n",
       "      <td>MENTION526 most abuse comes from gamergate accounts that are 30-90 days old.</td>\n",
       "      <td>0.254602</td>\n",
       "      <td>False</td>\n",
       "      <td>-1</td>\n",
       "    </tr>\n",
       "    <tr>\n",
       "      <th>9</th>\n",
       "      <td>9</td>\n",
       "      <td>other</td>\n",
       "      <td>Great to see the local National Park workers tucking into a free feed.  How about you empty those loo's instead. #MKR</td>\n",
       "      <td>0.392942</td>\n",
       "      <td>False</td>\n",
       "      <td>-1</td>\n",
       "    </tr>\n",
       "  </tbody>\n",
       "</table>\n",
       "</div>"
      ],
      "text/plain": [
       "   id dataset  \\\n",
       "0   0   other   \n",
       "1   1   other   \n",
       "2   2  callme   \n",
       "3   3   other   \n",
       "4   4   other   \n",
       "5   5  callme   \n",
       "6   6   other   \n",
       "7   7   other   \n",
       "8   8   other   \n",
       "9   9   other   \n",
       "\n",
       "                                                                                                                                      text  \\\n",
       "0                                                                                     MENTION3481 i didn't even know random was an option!   \n",
       "1                                                                                                         Bottom two should've gone!  #mkr   \n",
       "2                                  MENTION3111 MENTION3424 ladyboner deserves so much more credit than dudeboner. #bonerdebate #reddetails   \n",
       "3                                                                         She shall now be known as Sourpuss #MKR #KatAndre #FailedFoodies   \n",
       "4                               Tarah W threw a bunch of women under the bus so she could get Wadhwa's support for her Women in Tech book.   \n",
       "5                                                                                            I just don't trust an adult who uses coupons.   \n",
       "6                                                                                                                           Not again #MKR   \n",
       "7  #MKR2016 returns in 2020 once the all the couples, intruders, gate crashers and second-chancers are eliminated MENTION786 #MKR #MKR2015   \n",
       "8                                                             MENTION526 most abuse comes from gamergate accounts that are 30-90 days old.   \n",
       "9                    Great to see the local National Park workers tucking into a free feed.  How about you empty those loo's instead. #MKR   \n",
       "\n",
       "   toxicity  sexist  of_id  \n",
       "0  0.118180   False     -1  \n",
       "1  0.251850   False     -1  \n",
       "2  0.113331   False     -1  \n",
       "3  0.531153   False     -1  \n",
       "4  0.118718   False     -1  \n",
       "5  0.119590   False  13227  \n",
       "6  0.198415   False     -1  \n",
       "7  0.447262   False     -1  \n",
       "8  0.254602   False     -1  \n",
       "9  0.392942   False     -1  "
      ]
     },
     "execution_count": 9,
     "metadata": {},
     "output_type": "execute_result"
    }
   ],
   "source": [
    "# Para ver los textos completos\n",
    "pd.set_option('display.max_colwidth', None)\n",
    "\n",
    "df = pd.read_csv(\"Datasets\\sexism_data.csv\")\n",
    "df.head(10)"
   ]
  },
  {
   "cell_type": "markdown",
   "metadata": {},
   "source": [
    "Si nos quedamos unicamente con las columnas que nos interesan:"
   ]
  },
  {
   "cell_type": "code",
   "execution_count": 10,
   "metadata": {},
   "outputs": [
    {
     "data": {
      "text/html": [
       "<div>\n",
       "<style scoped>\n",
       "    .dataframe tbody tr th:only-of-type {\n",
       "        vertical-align: middle;\n",
       "    }\n",
       "\n",
       "    .dataframe tbody tr th {\n",
       "        vertical-align: top;\n",
       "    }\n",
       "\n",
       "    .dataframe thead th {\n",
       "        text-align: right;\n",
       "    }\n",
       "</style>\n",
       "<table border=\"1\" class=\"dataframe\">\n",
       "  <thead>\n",
       "    <tr style=\"text-align: right;\">\n",
       "      <th></th>\n",
       "      <th>text</th>\n",
       "      <th>sexist</th>\n",
       "    </tr>\n",
       "  </thead>\n",
       "  <tbody>\n",
       "    <tr>\n",
       "      <th>0</th>\n",
       "      <td>MENTION3481 i didn't even know random was an option!</td>\n",
       "      <td>False</td>\n",
       "    </tr>\n",
       "    <tr>\n",
       "      <th>1</th>\n",
       "      <td>Bottom two should've gone!  #mkr</td>\n",
       "      <td>False</td>\n",
       "    </tr>\n",
       "    <tr>\n",
       "      <th>2</th>\n",
       "      <td>MENTION3111 MENTION3424 ladyboner deserves so much more credit than dudeboner. #bonerdebate #reddetails</td>\n",
       "      <td>False</td>\n",
       "    </tr>\n",
       "    <tr>\n",
       "      <th>3</th>\n",
       "      <td>She shall now be known as Sourpuss #MKR #KatAndre #FailedFoodies</td>\n",
       "      <td>False</td>\n",
       "    </tr>\n",
       "    <tr>\n",
       "      <th>4</th>\n",
       "      <td>Tarah W threw a bunch of women under the bus so she could get Wadhwa's support for her Women in Tech book.</td>\n",
       "      <td>False</td>\n",
       "    </tr>\n",
       "    <tr>\n",
       "      <th>5</th>\n",
       "      <td>I just don't trust an adult who uses coupons.</td>\n",
       "      <td>False</td>\n",
       "    </tr>\n",
       "    <tr>\n",
       "      <th>6</th>\n",
       "      <td>Not again #MKR</td>\n",
       "      <td>False</td>\n",
       "    </tr>\n",
       "    <tr>\n",
       "      <th>7</th>\n",
       "      <td>#MKR2016 returns in 2020 once the all the couples, intruders, gate crashers and second-chancers are eliminated MENTION786 #MKR #MKR2015</td>\n",
       "      <td>False</td>\n",
       "    </tr>\n",
       "    <tr>\n",
       "      <th>8</th>\n",
       "      <td>MENTION526 most abuse comes from gamergate accounts that are 30-90 days old.</td>\n",
       "      <td>False</td>\n",
       "    </tr>\n",
       "    <tr>\n",
       "      <th>9</th>\n",
       "      <td>Great to see the local National Park workers tucking into a free feed.  How about you empty those loo's instead. #MKR</td>\n",
       "      <td>False</td>\n",
       "    </tr>\n",
       "  </tbody>\n",
       "</table>\n",
       "</div>"
      ],
      "text/plain": [
       "                                                                                                                                      text  \\\n",
       "0                                                                                     MENTION3481 i didn't even know random was an option!   \n",
       "1                                                                                                         Bottom two should've gone!  #mkr   \n",
       "2                                  MENTION3111 MENTION3424 ladyboner deserves so much more credit than dudeboner. #bonerdebate #reddetails   \n",
       "3                                                                         She shall now be known as Sourpuss #MKR #KatAndre #FailedFoodies   \n",
       "4                               Tarah W threw a bunch of women under the bus so she could get Wadhwa's support for her Women in Tech book.   \n",
       "5                                                                                            I just don't trust an adult who uses coupons.   \n",
       "6                                                                                                                           Not again #MKR   \n",
       "7  #MKR2016 returns in 2020 once the all the couples, intruders, gate crashers and second-chancers are eliminated MENTION786 #MKR #MKR2015   \n",
       "8                                                             MENTION526 most abuse comes from gamergate accounts that are 30-90 days old.   \n",
       "9                    Great to see the local National Park workers tucking into a free feed.  How about you empty those loo's instead. #MKR   \n",
       "\n",
       "   sexist  \n",
       "0   False  \n",
       "1   False  \n",
       "2   False  \n",
       "3   False  \n",
       "4   False  \n",
       "5   False  \n",
       "6   False  \n",
       "7   False  \n",
       "8   False  \n",
       "9   False  "
      ]
     },
     "execution_count": 10,
     "metadata": {},
     "output_type": "execute_result"
    }
   ],
   "source": [
    "df = df[['text', 'sexist']]\n",
    "df.head(10)"
   ]
  },
  {
   "cell_type": "code",
   "execution_count": 11,
   "metadata": {},
   "outputs": [
    {
     "data": {
      "text/plain": [
       "(13631, 2)"
      ]
     },
     "execution_count": 11,
     "metadata": {},
     "output_type": "execute_result"
    }
   ],
   "source": [
    "# Análisis del dataset\n",
    "df.shape"
   ]
  },
  {
   "cell_type": "code",
   "execution_count": 12,
   "metadata": {},
   "outputs": [
    {
     "data": {
      "text/plain": [
       "False    11822\n",
       "True      1809\n",
       "Name: sexist, dtype: int64"
      ]
     },
     "execution_count": 12,
     "metadata": {},
     "output_type": "execute_result"
    }
   ],
   "source": [
    "df['sexist'].value_counts()"
   ]
  },
  {
   "cell_type": "markdown",
   "metadata": {},
   "source": [
    "Nuestro dataset cuenta con 13631 registros que nos pueden venir genial para realizar nuestras pruebas.\n",
    "\n",
    "Hay que tener en cuenta que puede haber registros nulos que pueden empeorar en mucho el entranamiento, por lo que en el preprocesado nos encargareemos de ellos.\n",
    "\n",
    "También tenemos que tener en cuenta que la gran mayoría de los textos son de índole no machista, por lo que debemos centrarnos muy bien en la detección de los que si lo son."
   ]
  },
  {
   "cell_type": "code",
   "execution_count": 13,
   "metadata": {},
   "outputs": [
    {
     "data": {
      "text/html": [
       "<div>\n",
       "<style scoped>\n",
       "    .dataframe tbody tr th:only-of-type {\n",
       "        vertical-align: middle;\n",
       "    }\n",
       "\n",
       "    .dataframe tbody tr th {\n",
       "        vertical-align: top;\n",
       "    }\n",
       "\n",
       "    .dataframe thead th {\n",
       "        text-align: right;\n",
       "    }\n",
       "</style>\n",
       "<table border=\"1\" class=\"dataframe\">\n",
       "  <thead>\n",
       "    <tr style=\"text-align: right;\">\n",
       "      <th></th>\n",
       "      <th>text</th>\n",
       "      <th>sexist</th>\n",
       "    </tr>\n",
       "  </thead>\n",
       "  <tbody>\n",
       "    <tr>\n",
       "      <th>10</th>\n",
       "      <td>All my sons have grown up with computer games but I'm not interested. I see them as a male thing. MENTION203</td>\n",
       "      <td>True</td>\n",
       "    </tr>\n",
       "    <tr>\n",
       "      <th>14</th>\n",
       "      <td>Women have more intuition than men.</td>\n",
       "      <td>True</td>\n",
       "    </tr>\n",
       "    <tr>\n",
       "      <th>30</th>\n",
       "      <td>Women do not belong in politics</td>\n",
       "      <td>True</td>\n",
       "    </tr>\n",
       "    <tr>\n",
       "      <th>45</th>\n",
       "      <td>On the average, men are more arrogant than women</td>\n",
       "      <td>True</td>\n",
       "    </tr>\n",
       "    <tr>\n",
       "      <th>55</th>\n",
       "      <td>A woman will never be truly fulfilled in life if she doesn’t have a committed long-term relationship with a man</td>\n",
       "      <td>True</td>\n",
       "    </tr>\n",
       "    <tr>\n",
       "      <th>86</th>\n",
       "      <td>mmmm Good luck MENTION3536 😄 let us know how you go? Still think u &amp; MENTION395 should enter #MKR 😄 more cooking, less bitching mmmm</td>\n",
       "      <td>True</td>\n",
       "    </tr>\n",
       "    <tr>\n",
       "      <th>104</th>\n",
       "      <td>I hate having guys for teachers</td>\n",
       "      <td>True</td>\n",
       "    </tr>\n",
       "    <tr>\n",
       "      <th>105</th>\n",
       "      <td>A female can't tell me nothing bout sports. Sorry I grew up in a sports crazed house.</td>\n",
       "      <td>True</td>\n",
       "    </tr>\n",
       "    <tr>\n",
       "      <th>119</th>\n",
       "      <td>women can't drive. The only exception: danica patrick.</td>\n",
       "      <td>True</td>\n",
       "    </tr>\n",
       "    <tr>\n",
       "      <th>123</th>\n",
       "      <td>RT MENTION2547 I'm not sexist but the Men's skill sets and abilities are just leagues above the women's. Much more entertaining. #Olympics</td>\n",
       "      <td>True</td>\n",
       "    </tr>\n",
       "  </tbody>\n",
       "</table>\n",
       "</div>"
      ],
      "text/plain": [
       "                                                                                                                                           text  \\\n",
       "10                                 All my sons have grown up with computer games but I'm not interested. I see them as a male thing. MENTION203   \n",
       "14                                                                                                          Women have more intuition than men.   \n",
       "30                                                                                                              Women do not belong in politics   \n",
       "45                                                                                             On the average, men are more arrogant than women   \n",
       "55                              A woman will never be truly fulfilled in life if she doesn’t have a committed long-term relationship with a man   \n",
       "86         mmmm Good luck MENTION3536 😄 let us know how you go? Still think u & MENTION395 should enter #MKR 😄 more cooking, less bitching mmmm   \n",
       "104                                                                                                             I hate having guys for teachers   \n",
       "105                                                       A female can't tell me nothing bout sports. Sorry I grew up in a sports crazed house.   \n",
       "119                                                                                      women can't drive. The only exception: danica patrick.   \n",
       "123  RT MENTION2547 I'm not sexist but the Men's skill sets and abilities are just leagues above the women's. Much more entertaining. #Olympics   \n",
       "\n",
       "     sexist  \n",
       "10     True  \n",
       "14     True  \n",
       "30     True  \n",
       "45     True  \n",
       "55     True  \n",
       "86     True  \n",
       "104    True  \n",
       "105    True  \n",
       "119    True  \n",
       "123    True  "
      ]
     },
     "execution_count": 13,
     "metadata": {},
     "output_type": "execute_result"
    }
   ],
   "source": [
    "# Vemos algunas de las frases machistas\n",
    "df[df['sexist'] == True].head(10)"
   ]
  },
  {
   "cell_type": "code",
   "execution_count": 14,
   "metadata": {},
   "outputs": [
    {
     "data": {
      "text/html": [
       "<div>\n",
       "<style scoped>\n",
       "    .dataframe tbody tr th:only-of-type {\n",
       "        vertical-align: middle;\n",
       "    }\n",
       "\n",
       "    .dataframe tbody tr th {\n",
       "        vertical-align: top;\n",
       "    }\n",
       "\n",
       "    .dataframe thead th {\n",
       "        text-align: right;\n",
       "    }\n",
       "</style>\n",
       "<table border=\"1\" class=\"dataframe\">\n",
       "  <thead>\n",
       "    <tr style=\"text-align: right;\">\n",
       "      <th></th>\n",
       "      <th>text</th>\n",
       "      <th>sexist</th>\n",
       "    </tr>\n",
       "  </thead>\n",
       "  <tbody>\n",
       "    <tr>\n",
       "      <th>0</th>\n",
       "      <td>MENTION3481 i didn't even know random was an option!</td>\n",
       "      <td>False</td>\n",
       "    </tr>\n",
       "    <tr>\n",
       "      <th>1</th>\n",
       "      <td>Bottom two should've gone!  #mkr</td>\n",
       "      <td>False</td>\n",
       "    </tr>\n",
       "    <tr>\n",
       "      <th>2</th>\n",
       "      <td>MENTION3111 MENTION3424 ladyboner deserves so much more credit than dudeboner. #bonerdebate #reddetails</td>\n",
       "      <td>False</td>\n",
       "    </tr>\n",
       "    <tr>\n",
       "      <th>3</th>\n",
       "      <td>She shall now be known as Sourpuss #MKR #KatAndre #FailedFoodies</td>\n",
       "      <td>False</td>\n",
       "    </tr>\n",
       "    <tr>\n",
       "      <th>4</th>\n",
       "      <td>Tarah W threw a bunch of women under the bus so she could get Wadhwa's support for her Women in Tech book.</td>\n",
       "      <td>False</td>\n",
       "    </tr>\n",
       "    <tr>\n",
       "      <th>5</th>\n",
       "      <td>I just don't trust an adult who uses coupons.</td>\n",
       "      <td>False</td>\n",
       "    </tr>\n",
       "    <tr>\n",
       "      <th>6</th>\n",
       "      <td>Not again #MKR</td>\n",
       "      <td>False</td>\n",
       "    </tr>\n",
       "    <tr>\n",
       "      <th>7</th>\n",
       "      <td>#MKR2016 returns in 2020 once the all the couples, intruders, gate crashers and second-chancers are eliminated MENTION786 #MKR #MKR2015</td>\n",
       "      <td>False</td>\n",
       "    </tr>\n",
       "    <tr>\n",
       "      <th>8</th>\n",
       "      <td>MENTION526 most abuse comes from gamergate accounts that are 30-90 days old.</td>\n",
       "      <td>False</td>\n",
       "    </tr>\n",
       "    <tr>\n",
       "      <th>9</th>\n",
       "      <td>Great to see the local National Park workers tucking into a free feed.  How about you empty those loo's instead. #MKR</td>\n",
       "      <td>False</td>\n",
       "    </tr>\n",
       "  </tbody>\n",
       "</table>\n",
       "</div>"
      ],
      "text/plain": [
       "                                                                                                                                      text  \\\n",
       "0                                                                                     MENTION3481 i didn't even know random was an option!   \n",
       "1                                                                                                         Bottom two should've gone!  #mkr   \n",
       "2                                  MENTION3111 MENTION3424 ladyboner deserves so much more credit than dudeboner. #bonerdebate #reddetails   \n",
       "3                                                                         She shall now be known as Sourpuss #MKR #KatAndre #FailedFoodies   \n",
       "4                               Tarah W threw a bunch of women under the bus so she could get Wadhwa's support for her Women in Tech book.   \n",
       "5                                                                                            I just don't trust an adult who uses coupons.   \n",
       "6                                                                                                                           Not again #MKR   \n",
       "7  #MKR2016 returns in 2020 once the all the couples, intruders, gate crashers and second-chancers are eliminated MENTION786 #MKR #MKR2015   \n",
       "8                                                             MENTION526 most abuse comes from gamergate accounts that are 30-90 days old.   \n",
       "9                    Great to see the local National Park workers tucking into a free feed.  How about you empty those loo's instead. #MKR   \n",
       "\n",
       "   sexist  \n",
       "0   False  \n",
       "1   False  \n",
       "2   False  \n",
       "3   False  \n",
       "4   False  \n",
       "5   False  \n",
       "6   False  \n",
       "7   False  \n",
       "8   False  \n",
       "9   False  "
      ]
     },
     "execution_count": 14,
     "metadata": {},
     "output_type": "execute_result"
    }
   ],
   "source": [
    "# Vemos algunas de las frases que no son machistas\n",
    "df[df['sexist'] == False].head(10)"
   ]
  },
  {
   "cell_type": "markdown",
   "metadata": {},
   "source": [
    "## Preprocesamiento de textos"
   ]
  },
  {
   "cell_type": "markdown",
   "metadata": {},
   "source": [
    "En el dataset tenemos los textos junto a la etiqueta que nos interesa obtener sobre los textos que usemos más adelante. Para que funcione todo de la mejor forma posible debemos utilizar un buen preprocesamiento de textos para evitar aprendizaje en factores que no sean relevantes para nosotros, como por ejemplo los \"#\" o las menciones, que a simple vista es lo primero que debemos eliminar"
   ]
  },
  {
   "cell_type": "markdown",
   "metadata": {},
   "source": [
    "El preprocesamiento se basará en primera instancia en un limpiado sencillo, donde quitaremos los símbolos de puntuación, los hashtags, las menciones y realizaremos conversiones al texto para eliminar espacios y palabras que puedan ser creadas con estas transformaciones.\n",
    "\n",
    "Posteriormente usaremos la lematización y la bolsa de palabras para eliminar palabras que no aporten mucho significado"
   ]
  },
  {
   "cell_type": "markdown",
   "metadata": {},
   "source": [
    "### Prueba de eliminación de textos, antes de crear la función general"
   ]
  },
  {
   "cell_type": "code",
   "execution_count": 15,
   "metadata": {},
   "outputs": [],
   "source": [
    "prueba = df['text'].head(20)"
   ]
  },
  {
   "cell_type": "code",
   "execution_count": 16,
   "metadata": {},
   "outputs": [],
   "source": [
    "ser = pd.Series(df['text'][86])"
   ]
  },
  {
   "cell_type": "code",
   "execution_count": 17,
   "metadata": {},
   "outputs": [
    {
     "data": {
      "text/plain": [
       "0                                                                                        MENTION3481 i didn't even know random was an option!\n",
       "1                                                                                                            Bottom two should've gone!  #mkr\n",
       "2                                     MENTION3111 MENTION3424 ladyboner deserves so much more credit than dudeboner. #bonerdebate #reddetails\n",
       "3                                                                            She shall now be known as Sourpuss #MKR #KatAndre #FailedFoodies\n",
       "4                                  Tarah W threw a bunch of women under the bus so she could get Wadhwa's support for her Women in Tech book.\n",
       "5                                                                                               I just don't trust an adult who uses coupons.\n",
       "6                                                                                                                              Not again #MKR\n",
       "7     #MKR2016 returns in 2020 once the all the couples, intruders, gate crashers and second-chancers are eliminated MENTION786 #MKR #MKR2015\n",
       "8                                                                MENTION526 most abuse comes from gamergate accounts that are 30-90 days old.\n",
       "9                       Great to see the local National Park workers tucking into a free feed.  How about you empty those loo's instead. #MKR\n",
       "10                               All my sons have grown up with computer games but I'm not interested. I see them as a male thing. MENTION203\n",
       "11           MENTION4487 those are waaaaay more spendy. this is the drive i have. just considering using built-in or if i should go software.\n",
       "12                   Woman are the future. Rise up, Stand up, Shine on. \\n#adaywithoutwomen\\n#internationalwomensday… https://t.co/Nc7PsmLiN2\n",
       "13                                                          Apart from Ash and Robert, I'd pretty much forgotten about the rest of them. #MKR\n",
       "14                                                                                                        Women have more intuition than men.\n",
       "15                                                                                       Better than wadhwa. #ladylike http://t.co/KDXrCwAtfp\n",
       "16                                                   Nimoy is not crate trained. Whelp. It's going to be a long night. http://t.co/unahvXKIsk\n",
       "17                                                                                                                      MENTION2279 bot fight\n",
       "18                                                                             No one should be set on a pedestal by their significant other.\n",
       "19                                                 Lo cewek ya? \"MENTION4162: I have zero tolerance for cowok riwil. Riwil is girls' nature.\"\n",
       "0        mmmm Good luck MENTION3536 😄 let us know how you go? Still think u & MENTION395 should enter #MKR 😄 more cooking, less bitching mmmm\n",
       "dtype: object"
      ]
     },
     "execution_count": 17,
     "metadata": {},
     "output_type": "execute_result"
    }
   ],
   "source": [
    "# Para ver los textos completos\n",
    "pd.set_option('display.max_colwidth', None)\n",
    "prueba = prueba.append(ser)\n",
    "prueba"
   ]
  },
  {
   "cell_type": "markdown",
   "metadata": {},
   "source": [
    "1. Siguiendo un orden, lo primero que vamos a eliminar son los enlaces"
   ]
  },
  {
   "cell_type": "code",
   "execution_count": 18,
   "metadata": {},
   "outputs": [
    {
     "data": {
      "text/plain": [
       "0                                                                                        MENTION3481 i didn't even know random was an option!\n",
       "1                                                                                                            Bottom two should've gone!  #mkr\n",
       "2                                     MENTION3111 MENTION3424 ladyboner deserves so much more credit than dudeboner. #bonerdebate #reddetails\n",
       "3                                                                            She shall now be known as Sourpuss #MKR #KatAndre #FailedFoodies\n",
       "4                                  Tarah W threw a bunch of women under the bus so she could get Wadhwa's support for her Women in Tech book.\n",
       "5                                                                                               I just don't trust an adult who uses coupons.\n",
       "6                                                                                                                              Not again #MKR\n",
       "7     #MKR2016 returns in 2020 once the all the couples, intruders, gate crashers and second-chancers are eliminated MENTION786 #MKR #MKR2015\n",
       "8                                                                MENTION526 most abuse comes from gamergate accounts that are 30-90 days old.\n",
       "9                       Great to see the local National Park workers tucking into a free feed.  How about you empty those loo's instead. #MKR\n",
       "10                               All my sons have grown up with computer games but I'm not interested. I see them as a male thing. MENTION203\n",
       "11           MENTION4487 those are waaaaay more spendy. this is the drive i have. just considering using built-in or if i should go software.\n",
       "12                                          Woman are the future. Rise up, Stand up, Shine on. \\n#adaywithoutwomen\\n#internationalwomensday… \n",
       "13                                                          Apart from Ash and Robert, I'd pretty much forgotten about the rest of them. #MKR\n",
       "14                                                                                                        Women have more intuition than men.\n",
       "15                                                                                                             Better than wadhwa. #ladylike \n",
       "16                                                                         Nimoy is not crate trained. Whelp. It's going to be a long night. \n",
       "17                                                                                                                      MENTION2279 bot fight\n",
       "18                                                                             No one should be set on a pedestal by their significant other.\n",
       "19                                                 Lo cewek ya? \"MENTION4162: I have zero tolerance for cowok riwil. Riwil is girls' nature.\"\n",
       "0        mmmm Good luck MENTION3536 😄 let us know how you go? Still think u & MENTION395 should enter #MKR 😄 more cooking, less bitching mmmm\n",
       "dtype: object"
      ]
     },
     "execution_count": 18,
     "metadata": {},
     "output_type": "execute_result"
    }
   ],
   "source": [
    "# Iremos ampliando la funcion conforme más cosas le añadamos\n",
    "\n",
    "def preprocessor(title_text):\n",
    "    # Primero  eliminiación de enlaces\n",
    "    title_text = title_text.apply(lambda x: re.sub(r'(https|http)?:\\/\\/(\\w|\\.|\\/|\\?|\\=|\\&|\\%)*\\b', '', x, flags=re.MULTILINE))\n",
    "    return title_text\n",
    "\n",
    "prueba_noLink = preprocessor(prueba.copy())\n",
    "prueba_noLink"
   ]
  },
  {
   "cell_type": "markdown",
   "metadata": {},
   "source": [
    "2. Eliminación de las menciones"
   ]
  },
  {
   "cell_type": "code",
   "execution_count": 19,
   "metadata": {},
   "outputs": [
    {
     "data": {
      "text/plain": [
       "0                                                                                          i didn't even know random was an option!\n",
       "1                                                                                                  Bottom two should've gone!  #mkr\n",
       "2                                                   ladyboner deserves so much more credit than dudeboner. #bonerdebate #reddetails\n",
       "3                                                                  She shall now be known as Sourpuss #MKR #KatAndre #FailedFoodies\n",
       "4                        Tarah W threw a bunch of women under the bus so she could get Wadhwa's support for her Women in Tech book.\n",
       "5                                                                                     I just don't trust an adult who uses coupons.\n",
       "6                                                                                                                    Not again #MKR\n",
       "7     #MKR2016 returns in 2020 once the all the couples, intruders, gate crashers and second-chancers are eliminated  #MKR #MKR2015\n",
       "8                                                                 most abuse comes from gamergate accounts that are 30-90 days old.\n",
       "9             Great to see the local National Park workers tucking into a free feed.  How about you empty those loo's instead. #MKR\n",
       "10                               All my sons have grown up with computer games but I'm not interested. I see them as a male thing. \n",
       "11             those are waaaaay more spendy. this is the drive i have. just considering using built-in or if i should go software.\n",
       "12                                Woman are the future. Rise up, Stand up, Shine on. \\n#adaywithoutwomen\\n#internationalwomensday… \n",
       "13                                                Apart from Ash and Robert, I'd pretty much forgotten about the rest of them. #MKR\n",
       "14                                                                                              Women have more intuition than men.\n",
       "15                                                                                                   Better than wadhwa. #ladylike \n",
       "16                                                               Nimoy is not crate trained. Whelp. It's going to be a long night. \n",
       "17                                                                                                                        bot fight\n",
       "18                                                                   No one should be set on a pedestal by their significant other.\n",
       "19                                                  Lo cewek ya? \": I have zero tolerance for cowok riwil. Riwil is girls' nature.\"\n",
       "0                   mmmm Good luck  😄 let us know how you go? Still think u &  should enter #MKR 😄 more cooking, less bitching mmmm\n",
       "dtype: object"
      ]
     },
     "execution_count": 19,
     "metadata": {},
     "output_type": "execute_result"
    }
   ],
   "source": [
    "# Iremos ampliando la funcion conforme más cosas le añadamos\n",
    "\n",
    "def preprocessor(title_text):\n",
    "    # Primero eliminiación de enlaces\n",
    "    title_text = title_text.apply(lambda x: re.sub(r'(https|http)?:\\/\\/(\\w|\\.|\\/|\\?|\\=|\\&|\\%)*\\b', '', x, flags=re.MULTILINE))\n",
    "    # Segundo eliminiación de menciones\n",
    "    title_text = title_text.apply(lambda x: re.sub(r'MENTION[0-9]*', '', x, flags=re.MULTILINE))\n",
    "    return title_text\n",
    "\n",
    "prueba_noMEN = preprocessor(prueba.copy())\n",
    "prueba_noMEN"
   ]
  },
  {
   "cell_type": "code",
   "execution_count": 20,
   "metadata": {},
   "outputs": [
    {
     "data": {
      "text/plain": [
       "0                                                                                   i didn't even know random was an option!\n",
       "1                                                                                              Bottom two should've gone!   \n",
       "2                                                                 ladyboner deserves so much more credit than dudeboner.    \n",
       "3                                                                                   She shall now be known as Sourpuss      \n",
       "4                 Tarah W threw a bunch of women under the bus so she could get Wadhwa's support for her Women in Tech book.\n",
       "5                                                                              I just don't trust an adult who uses coupons.\n",
       "6                                                                                                                Not again  \n",
       "7                returns in 2020 once the all the couples, intruders, gate crashers and second-chancers are eliminated      \n",
       "8                                                          most abuse comes from gamergate accounts that are 30-90 days old.\n",
       "9         Great to see the local National Park workers tucking into a free feed.  How about you empty those loo's instead.  \n",
       "10                       All my sons have grown up with computer games but I'm not interested. I see them as a male thing.  \n",
       "11      those are waaaaay more spendy. this is the drive i have. just considering using built-in or if i should go software.\n",
       "12                                                              Woman are the future. Rise up, Stand up, Shine on. \\n \\n …  \n",
       "13                                            Apart from Ash and Robert, I'd pretty much forgotten about the rest of them.  \n",
       "14                                                                                       Women have more intuition than men.\n",
       "15                                                                                                   Better than wadhwa.    \n",
       "16                                                       Nimoy is not crate trained. Whelp. It's going to be a long night.  \n",
       "17                                                                                                                 bot fight\n",
       "18                                                            No one should be set on a pedestal by their significant other.\n",
       "19                                          Lo cewek ya? \" : I have zero tolerance for cowok riwil. Riwil is girls' nature.\"\n",
       "0             mmmm Good luck   😄 let us know how you go? Still think u &   should enter   😄 more cooking, less bitching mmmm\n",
       "dtype: object"
      ]
     },
     "execution_count": 20,
     "metadata": {},
     "output_type": "execute_result"
    }
   ],
   "source": [
    "# Los compactamos\n",
    "def preprocessor(title_text):\n",
    "    # Primero eliminiación de enlaces\n",
    "    title_text = title_text.apply(lambda x: re.sub(r'((https|http)?:\\/\\/(\\w|\\.|\\/|\\?|\\=|\\&|\\%)*\\b)|(MENTION[0-9]*)|(#[a-zA-Z0-9]*)', ' ', x, flags=re.MULTILINE))\n",
    "\n",
    "    return title_text\n",
    "\n",
    "prueba_noMEN = preprocessor(prueba.copy())\n",
    "prueba_noMEN"
   ]
  },
  {
   "cell_type": "markdown",
   "metadata": {},
   "source": [
    "3. Eliminamos los emojis"
   ]
  },
  {
   "cell_type": "code",
   "execution_count": 21,
   "metadata": {},
   "outputs": [],
   "source": [
    "# Funcion para la creacion del patron\n",
    "def removeEmoji(text):\n",
    "    emoji_pattern = re.compile(\"[\"\n",
    "      u\"\\U0001F600-\\U0001F64F\"  # emoticons\n",
    "      u\"\\U0001F300-\\U0001F5FF\"  # symbols & pictographs\n",
    "      u\"\\U0001F680-\\U0001F6FF\"  # transport & map symbols\n",
    "      u\"\\U0001F1E0-\\U0001F1FF\"  # flags (iOS)\n",
    "      u\"\\U00002500-\\U00002BEF\"  # chinese char\n",
    "      u\"\\U00002702-\\U000027B0\"\n",
    "      u\"\\U00002702-\\U000027B0\"\n",
    "      u\"\\U000024C2-\\U0001F251\"\n",
    "      u\"\\U0001f926-\\U0001f937\"\n",
    "      u\"\\U00010000-\\U0010ffff\"\n",
    "      u\"\\u2640-\\u2642\"\n",
    "      u\"\\u2600-\\u2B55\"\n",
    "      u\"\\u200d\"\n",
    "      u\"\\u23cf\"\n",
    "      u\"\\u23e9\"\n",
    "      u\"\\u231a\"\n",
    "      u\"\\ufe0f\"  # dingbats\n",
    "      u\"\\u3030\"\n",
    "      \"]+\", flags=re.UNICODE)\n",
    "    return emoji_pattern.sub(r'',text)"
   ]
  },
  {
   "cell_type": "code",
   "execution_count": 22,
   "metadata": {},
   "outputs": [
    {
     "data": {
      "text/plain": [
       "0                                                                                          i didn't even know random was an option!\n",
       "1                                                                                                  Bottom two should've gone!  #mkr\n",
       "2                                                   ladyboner deserves so much more credit than dudeboner. #bonerdebate #reddetails\n",
       "3                                                                  She shall now be known as Sourpuss #MKR #KatAndre #FailedFoodies\n",
       "4                        Tarah W threw a bunch of women under the bus so she could get Wadhwa's support for her Women in Tech book.\n",
       "5                                                                                     I just don't trust an adult who uses coupons.\n",
       "6                                                                                                                    Not again #MKR\n",
       "7     #MKR2016 returns in 2020 once the all the couples, intruders, gate crashers and second-chancers are eliminated  #MKR #MKR2015\n",
       "8                                                                 most abuse comes from gamergate accounts that are 30-90 days old.\n",
       "9             Great to see the local National Park workers tucking into a free feed.  How about you empty those loo's instead. #MKR\n",
       "10                               All my sons have grown up with computer games but I'm not interested. I see them as a male thing. \n",
       "11             those are waaaaay more spendy. this is the drive i have. just considering using built-in or if i should go software.\n",
       "12                                Woman are the future. Rise up, Stand up, Shine on. \\n#adaywithoutwomen\\n#internationalwomensday… \n",
       "13                                                Apart from Ash and Robert, I'd pretty much forgotten about the rest of them. #MKR\n",
       "14                                                                                              Women have more intuition than men.\n",
       "15                                                                                                   Better than wadhwa. #ladylike \n",
       "16                                                               Nimoy is not crate trained. Whelp. It's going to be a long night. \n",
       "17                                                                                                                        bot fight\n",
       "18                                                                   No one should be set on a pedestal by their significant other.\n",
       "19                                                  Lo cewek ya? \": I have zero tolerance for cowok riwil. Riwil is girls' nature.\"\n",
       "0                     mmmm Good luck   let us know how you go? Still think u &  should enter #MKR  more cooking, less bitching mmmm\n",
       "dtype: object"
      ]
     },
     "execution_count": 22,
     "metadata": {},
     "output_type": "execute_result"
    }
   ],
   "source": [
    "def preprocessor(title_text):\n",
    "    # Primero y segundo, eliminiación de enlaces y menciones\n",
    "    title_text = title_text.apply(lambda x: re.sub(r'((https|http)?:\\/\\/(\\w|\\.|\\/|\\?|\\=|\\&|\\%)*\\b)|(MENTION[0-9]*)', '', x, flags=re.MULTILINE))\n",
    "    # Tercero, eliminiación de emojis\n",
    "    title_text = title_text.apply(lambda x: removeEmoji(x))\n",
    "    return title_text\n",
    "\n",
    "prueba_noEmo = preprocessor(prueba.copy())\n",
    "prueba_noEmo"
   ]
  },
  {
   "cell_type": "markdown",
   "metadata": {},
   "source": [
    "4. Proseguiremos con la eliminacion de los **#hashtags** propios de twitter."
   ]
  },
  {
   "cell_type": "code",
   "execution_count": 23,
   "metadata": {},
   "outputs": [
    {
     "data": {
      "text/plain": [
       "0                                                                                  i didn't even know random was an option!\n",
       "1                                                                                              Bottom two should've gone!  \n",
       "2                                                                  ladyboner deserves so much more credit than dudeboner.  \n",
       "3                                                                                     She shall now be known as Sourpuss   \n",
       "4                Tarah W threw a bunch of women under the bus so she could get Wadhwa's support for her Women in Tech book.\n",
       "5                                                                             I just don't trust an adult who uses coupons.\n",
       "6                                                                                                                Not again \n",
       "7                  returns in 2020 once the all the couples, intruders, gate crashers and second-chancers are eliminated   \n",
       "8                                                         most abuse comes from gamergate accounts that are 30-90 days old.\n",
       "9         Great to see the local National Park workers tucking into a free feed.  How about you empty those loo's instead. \n",
       "10                       All my sons have grown up with computer games but I'm not interested. I see them as a male thing. \n",
       "11     those are waaaaay more spendy. this is the drive i have. just considering using built-in or if i should go software.\n",
       "12                                                                Woman are the future. Rise up, Stand up, Shine on. \\n\\n… \n",
       "13                                            Apart from Ash and Robert, I'd pretty much forgotten about the rest of them. \n",
       "14                                                                                      Women have more intuition than men.\n",
       "15                                                                                                    Better than wadhwa.  \n",
       "16                                                       Nimoy is not crate trained. Whelp. It's going to be a long night. \n",
       "17                                                                                                                bot fight\n",
       "18                                                           No one should be set on a pedestal by their significant other.\n",
       "19                                          Lo cewek ya? \": I have zero tolerance for cowok riwil. Riwil is girls' nature.\"\n",
       "0                 mmmm Good luck   let us know how you go? Still think u &  should enter   more cooking, less bitching mmmm\n",
       "dtype: object"
      ]
     },
     "execution_count": 23,
     "metadata": {},
     "output_type": "execute_result"
    }
   ],
   "source": [
    "def preprocessor(title_text):\n",
    "    # Primero, segundo y cuarto, eliminiación de enlaces, menciones y hashtags\n",
    "    title_text = title_text.apply(lambda x: re.sub(r'((https|http)?:\\/\\/(\\w|\\.|\\/|\\?|\\=|\\&|\\%)*\\b)|(MENTION[0-9]*)|(#[a-zA-Z0-9]*)', '', x, flags=re.MULTILINE))\n",
    "    # Tercero, eliminiación de emojis\n",
    "    title_text = title_text.apply(lambda x: removeEmoji(x))\n",
    "    return title_text\n",
    "\n",
    "prueba_noHas = preprocessor(prueba.copy())\n",
    "prueba_noHas"
   ]
  },
  {
   "cell_type": "markdown",
   "metadata": {},
   "source": [
    "5. Eliminación de símbolos de puntuación, eliminacion de espacios dobles, números y simbolos tipo \\n"
   ]
  },
  {
   "cell_type": "code",
   "execution_count": 24,
   "metadata": {},
   "outputs": [
    {
     "data": {
      "text/plain": [
       "0                                                                           i didnt even know random was an option\n",
       "1                                                                                         bottom two shouldve gone\n",
       "2                                                            ladyboner deserves so much more credit than dudeboner\n",
       "3                                                                               she shall now be known as sourpuss\n",
       "4           tarah w threw a bunch of women under the bus so she could get wadhwas suppo for her women in tech book\n",
       "5                                                                      i just dont trust an adult who uses coupons\n",
       "6                                                                                                        not again\n",
       "7                    returns in once the all the couples intruders gate crashers and secondchancers are eliminated\n",
       "8                                                       most abuse comes from gamergate accounts that are days old\n",
       "9     great to see the local national park workers tucking into a free feed how about you empty those loos instead\n",
       "10                  all my sons have grown up with computer games but im not interested i see them as a male thing\n",
       "11    those are w y more spendy this is the drive i have just considering using builtin or if i should go software\n",
       "12                                                                  woman are the future rise up stand up shine on\n",
       "13                                           apa from ash and robe id pretty much forgotten about the rest of them\n",
       "14                                                                              women have more intuition than men\n",
       "15                                                                                              better than wadhwa\n",
       "16                                                   nimoy is not crate trained whelp its going to be a long night\n",
       "17                                                                                                       bot fight\n",
       "18                                                   no one should be set on a pedestal by their significant other\n",
       "19                                         lo cewek ya i have zero tolerance for cowok riwil riwil is girls nature\n",
       "0                           good luck let us know how you go still think u should enter more cooking less bitching\n",
       "dtype: object"
      ]
     },
     "execution_count": 24,
     "metadata": {},
     "output_type": "execute_result"
    }
   ],
   "source": [
    "def preprocessor(title_text):\n",
    "    \n",
    "    # Primero, segundo y cuarto, eliminiación de enlaces, menciones y hashtags - Incluimos eliminar espacios y caracteres raros\n",
    "    title_text = title_text.apply(lambda x: re.sub(r'((https|http)?:\\/\\/(\\w|\\.|\\/|\\?|\\=|\\&|\\%)*\\b)|(MENTION[0-9]*)|(#[a-zA-Z0-9]*)', '', x, flags=re.MULTILINE))\n",
    "    title_text = title_text.str.replace('\\n','')\n",
    "    title_text = title_text.str.replace('\\t','')\n",
    "\n",
    "     # Quitamos simbolos de puntuacion\n",
    "    title_text = title_text.str.translate(str.maketrans('', '', string.punctuation))\n",
    "\n",
    "    # Eliminamos los restos que no hayan sido eliminados y algunas expresiones que no aportan informacion\n",
    "    title_text = title_text.apply(lambda x: re.sub(r'([^0-9a-zA-Z:,\\s]+)|(rt)|(lol)|(lmao)|(lmfao)', '', x, flags=re.MULTILINE))\n",
    "\n",
    "    # Despues de eliminar los simbolos de puntuacion, eliminamos los números\n",
    "    title_text = title_text.apply(lambda x: re.sub(r'([0-9]+)', ' ', x, flags=re.MULTILINE))\n",
    "    # Tercero, eliminiación de emojis\n",
    "    title_text = title_text.apply(lambda x: removeEmoji(x))\n",
    "    # Quitamos palabras sueltas con letras repetidas\n",
    "    title_text = title_text.apply(lambda x: re.sub(r'(.)\\1{3,}', ' ', x, flags=re.MULTILINE))\n",
    "\n",
    "    # Ponemos todo en minusculas y aplicamos trim\n",
    "    title_text = title_text.str.lower()\n",
    "    title_text = title_text.str.strip()\n",
    "    # Quitamos espacios sobrantes\n",
    "    title_text = title_text.apply(lambda x: ' '.join([y for y in x.split(' ') if y != '']))\n",
    "    \n",
    "    return title_text\n",
    "\n",
    "\n",
    "prueba_clean = preprocessor(prueba.copy())\n",
    "prueba_clean"
   ]
  },
  {
   "cell_type": "markdown",
   "metadata": {},
   "source": [
    "### Uso con el dataset en conjunto"
   ]
  },
  {
   "cell_type": "markdown",
   "metadata": {},
   "source": [
    "Con la función creada, podemos aplicarlo al dataset en conjunto"
   ]
  },
  {
   "cell_type": "code",
   "execution_count": 25,
   "metadata": {},
   "outputs": [],
   "source": [
    "# Auxiliar function for remove all emoji characters\n",
    "# https://gist.github.com/slowkow/7a7f61f495e3dbb7e3d767f97bd7304b\n",
    "def removeEmoji(text):\n",
    "    emoji_pattern = re.compile(\"[\"\n",
    "      u\"\\U0001F600-\\U0001F64F\"  # emoticons\n",
    "      u\"\\U0001F300-\\U0001F5FF\"  # symbols & pictographs\n",
    "      u\"\\U0001F680-\\U0001F6FF\"  # transport & map symbols\n",
    "      u\"\\U0001F1E0-\\U0001F1FF\"  # flags (iOS)\n",
    "      u\"\\U00002500-\\U00002BEF\"  # chinese char\n",
    "      u\"\\U00002702-\\U000027B0\"\n",
    "      u\"\\U00002702-\\U000027B0\"\n",
    "      u\"\\U000024C2-\\U0001F251\"\n",
    "      u\"\\U0001f926-\\U0001f937\"\n",
    "      u\"\\U00010000-\\U0010ffff\"\n",
    "      u\"\\u2640-\\u2642\"\n",
    "      u\"\\u2600-\\u2B55\"\n",
    "      u\"\\u200d\"\n",
    "      u\"\\u23cf\"\n",
    "      u\"\\u23e9\"\n",
    "      u\"\\u231a\"\n",
    "      u\"\\ufe0f\"  # dingbats\n",
    "      u\"\\u3030\"\n",
    "      \"]+\", flags=re.UNICODE)\n",
    "    return emoji_pattern.sub(r'',text)\n",
    "\n",
    "# Preprocessor function\n",
    "def preprocessor(title_text):\n",
    "\n",
    "    # Primero, segundo y cuarto, eliminiación de enlaces, menciones y hashtags - Incluimos eliminar espacios y caracteres raros\n",
    "    title_text = title_text.apply(lambda x: re.sub(r'((https|http)?:\\/\\/(\\w|\\.|\\/|\\?|\\=|\\&|\\%)*\\b)|(MENTION[0-9]*)|(#[a-zA-Z0-9]*)', ' ', x, flags=re.MULTILINE))\n",
    "    title_text = title_text.str.replace('\\n',' ')\n",
    "    title_text = title_text.str.replace('\\t',' ')\n",
    "\n",
    "    # Quitamos simbolos de puntuacion\n",
    "    title_text = title_text.str.translate(str.maketrans('', '', string.punctuation))\n",
    "\n",
    "    # Eliminamos los restos que no hayan sido eliminados y algunas expresiones que no aportan informacion\n",
    "    title_text = title_text.apply(lambda x: re.sub(r'([^0-9a-zA-Z:,\\s]+)|(rt)|(lol)|(lmao)|(lmfao)', '', x, flags=re.MULTILINE))\n",
    "\n",
    "    # Despues de eliminar los simbolos de puntuacion, eliminamos los números\n",
    "    title_text = title_text.apply(lambda x: re.sub(r'([0-9]+)', ' ', x, flags=re.MULTILINE))\n",
    "    # Tercero, eliminiación de emojis\n",
    "    title_text = title_text.apply(lambda x: removeEmoji(x))\n",
    "    # Quitamos palabras sueltas con letras repetidas\n",
    "    title_text = title_text.apply(lambda x: re.sub(r'(.)\\1{3,}', ' ', x, flags=re.MULTILINE))\n",
    "\n",
    "    # Ponemos todo en minusculas y aplicamos trim\n",
    "    title_text = title_text.str.lower()\n",
    "    title_text = title_text.str.strip()\n",
    "    # Quitamos espacios sobrantes\n",
    "    title_text = title_text.apply(lambda x: ' '.join([y for y in x.split(' ') if y != '']))\n",
    "\n",
    "    # Lematizacion\n",
    "    #title_text = title_text.apply(lambda x: lemmatization(x))\n",
    "\n",
    "    return title_text"
   ]
  },
  {
   "cell_type": "code",
   "execution_count": 26,
   "metadata": {},
   "outputs": [],
   "source": [
    "df['text'] = preprocessor(df['text'])"
   ]
  },
  {
   "cell_type": "markdown",
   "metadata": {},
   "source": [
    "Con el preprocesamiento hecho podemos aplicar un filtro al dataframe para eliminar las filas que esten vacias o que contengan una longitud menor de 10 (por ejemplo)"
   ]
  },
  {
   "cell_type": "code",
   "execution_count": 27,
   "metadata": {},
   "outputs": [],
   "source": [
    "min_lenght = 10\n",
    "\n",
    "df = df[df['text'].str.len()>10]"
   ]
  },
  {
   "cell_type": "markdown",
   "metadata": {},
   "source": [
    "Tras el filtrado vamos a ver cuantos registros han quedado de cada una de las clases"
   ]
  },
  {
   "cell_type": "code",
   "execution_count": 28,
   "metadata": {},
   "outputs": [
    {
     "data": {
      "text/plain": [
       "False    11218\n",
       "True      1807\n",
       "Name: sexist, dtype: int64"
      ]
     },
     "execution_count": 28,
     "metadata": {},
     "output_type": "execute_result"
    }
   ],
   "source": [
    "df['sexist'].value_counts()"
   ]
  },
  {
   "cell_type": "code",
   "execution_count": 29,
   "metadata": {},
   "outputs": [
    {
     "data": {
      "text/html": [
       "<div>\n",
       "<style scoped>\n",
       "    .dataframe tbody tr th:only-of-type {\n",
       "        vertical-align: middle;\n",
       "    }\n",
       "\n",
       "    .dataframe tbody tr th {\n",
       "        vertical-align: top;\n",
       "    }\n",
       "\n",
       "    .dataframe thead th {\n",
       "        text-align: right;\n",
       "    }\n",
       "</style>\n",
       "<table border=\"1\" class=\"dataframe\">\n",
       "  <thead>\n",
       "    <tr style=\"text-align: right;\">\n",
       "      <th></th>\n",
       "      <th>text</th>\n",
       "      <th>sexist</th>\n",
       "    </tr>\n",
       "  </thead>\n",
       "  <tbody>\n",
       "    <tr>\n",
       "      <th>0</th>\n",
       "      <td>i didnt even know random was an option</td>\n",
       "      <td>False</td>\n",
       "    </tr>\n",
       "    <tr>\n",
       "      <th>1</th>\n",
       "      <td>bottom two shouldve gone</td>\n",
       "      <td>False</td>\n",
       "    </tr>\n",
       "    <tr>\n",
       "      <th>2</th>\n",
       "      <td>ladyboner deserves so much more credit than dudeboner</td>\n",
       "      <td>False</td>\n",
       "    </tr>\n",
       "    <tr>\n",
       "      <th>3</th>\n",
       "      <td>she shall now be known as sourpuss</td>\n",
       "      <td>False</td>\n",
       "    </tr>\n",
       "    <tr>\n",
       "      <th>4</th>\n",
       "      <td>tarah w threw a bunch of women under the bus so she could get wadhwas suppo for her women in tech book</td>\n",
       "      <td>False</td>\n",
       "    </tr>\n",
       "    <tr>\n",
       "      <th>5</th>\n",
       "      <td>i just dont trust an adult who uses coupons</td>\n",
       "      <td>False</td>\n",
       "    </tr>\n",
       "    <tr>\n",
       "      <th>7</th>\n",
       "      <td>returns in once the all the couples intruders gate crashers and secondchancers are eliminated</td>\n",
       "      <td>False</td>\n",
       "    </tr>\n",
       "    <tr>\n",
       "      <th>8</th>\n",
       "      <td>most abuse comes from gamergate accounts that are days old</td>\n",
       "      <td>False</td>\n",
       "    </tr>\n",
       "    <tr>\n",
       "      <th>9</th>\n",
       "      <td>great to see the local national park workers tucking into a free feed how about you empty those loos instead</td>\n",
       "      <td>False</td>\n",
       "    </tr>\n",
       "    <tr>\n",
       "      <th>10</th>\n",
       "      <td>all my sons have grown up with computer games but im not interested i see them as a male thing</td>\n",
       "      <td>True</td>\n",
       "    </tr>\n",
       "  </tbody>\n",
       "</table>\n",
       "</div>"
      ],
      "text/plain": [
       "                                                                                                            text  \\\n",
       "0                                                                         i didnt even know random was an option   \n",
       "1                                                                                       bottom two shouldve gone   \n",
       "2                                                          ladyboner deserves so much more credit than dudeboner   \n",
       "3                                                                             she shall now be known as sourpuss   \n",
       "4         tarah w threw a bunch of women under the bus so she could get wadhwas suppo for her women in tech book   \n",
       "5                                                                    i just dont trust an adult who uses coupons   \n",
       "7                  returns in once the all the couples intruders gate crashers and secondchancers are eliminated   \n",
       "8                                                     most abuse comes from gamergate accounts that are days old   \n",
       "9   great to see the local national park workers tucking into a free feed how about you empty those loos instead   \n",
       "10                all my sons have grown up with computer games but im not interested i see them as a male thing   \n",
       "\n",
       "    sexist  \n",
       "0    False  \n",
       "1    False  \n",
       "2    False  \n",
       "3    False  \n",
       "4    False  \n",
       "5    False  \n",
       "7    False  \n",
       "8    False  \n",
       "9    False  \n",
       "10    True  "
      ]
     },
     "execution_count": 29,
     "metadata": {},
     "output_type": "execute_result"
    }
   ],
   "source": [
    "df.head(10)"
   ]
  },
  {
   "cell_type": "markdown",
   "metadata": {},
   "source": [
    "### Lemmatization y Bag of Words"
   ]
  },
  {
   "cell_type": "markdown",
   "metadata": {},
   "source": [
    "Usaremos las técnicas que hemos visto a lo largo del máster para terminar el preprocesamiento de los datos\n",
    "\n",
    "Lematización: Reducimos las palabras a la raiz (was -> wa)"
   ]
  },
  {
   "cell_type": "code",
   "execution_count": 30,
   "metadata": {},
   "outputs": [],
   "source": [
    "stemmer = WordNetLemmatizer()\n",
    "\n",
    "def lemmatization(text):\n",
    "    text = text.split()\n",
    "\n",
    "    text = [stemmer.lemmatize(word) for word in text]\n",
    "    text = ' '.join(text)\n",
    "    return text\n",
    "    \n",
    "\n",
    "df['text'] = df['text'].apply(lambda x: lemmatization(x))"
   ]
  },
  {
   "cell_type": "code",
   "execution_count": 31,
   "metadata": {},
   "outputs": [
    {
     "data": {
      "text/html": [
       "<div>\n",
       "<style scoped>\n",
       "    .dataframe tbody tr th:only-of-type {\n",
       "        vertical-align: middle;\n",
       "    }\n",
       "\n",
       "    .dataframe tbody tr th {\n",
       "        vertical-align: top;\n",
       "    }\n",
       "\n",
       "    .dataframe thead th {\n",
       "        text-align: right;\n",
       "    }\n",
       "</style>\n",
       "<table border=\"1\" class=\"dataframe\">\n",
       "  <thead>\n",
       "    <tr style=\"text-align: right;\">\n",
       "      <th></th>\n",
       "      <th>text</th>\n",
       "      <th>sexist</th>\n",
       "    </tr>\n",
       "  </thead>\n",
       "  <tbody>\n",
       "    <tr>\n",
       "      <th>0</th>\n",
       "      <td>i didnt even know random wa an option</td>\n",
       "      <td>False</td>\n",
       "    </tr>\n",
       "    <tr>\n",
       "      <th>1</th>\n",
       "      <td>bottom two shouldve gone</td>\n",
       "      <td>False</td>\n",
       "    </tr>\n",
       "    <tr>\n",
       "      <th>2</th>\n",
       "      <td>ladyboner deserves so much more credit than dudeboner</td>\n",
       "      <td>False</td>\n",
       "    </tr>\n",
       "    <tr>\n",
       "      <th>3</th>\n",
       "      <td>she shall now be known a sourpuss</td>\n",
       "      <td>False</td>\n",
       "    </tr>\n",
       "    <tr>\n",
       "      <th>4</th>\n",
       "      <td>tarah w threw a bunch of woman under the bus so she could get wadhwas suppo for her woman in tech book</td>\n",
       "      <td>False</td>\n",
       "    </tr>\n",
       "  </tbody>\n",
       "</table>\n",
       "</div>"
      ],
      "text/plain": [
       "                                                                                                     text  \\\n",
       "0                                                                   i didnt even know random wa an option   \n",
       "1                                                                                bottom two shouldve gone   \n",
       "2                                                   ladyboner deserves so much more credit than dudeboner   \n",
       "3                                                                       she shall now be known a sourpuss   \n",
       "4  tarah w threw a bunch of woman under the bus so she could get wadhwas suppo for her woman in tech book   \n",
       "\n",
       "   sexist  \n",
       "0   False  \n",
       "1   False  \n",
       "2   False  \n",
       "3   False  \n",
       "4   False  "
      ]
     },
     "execution_count": 31,
     "metadata": {},
     "output_type": "execute_result"
    }
   ],
   "source": [
    "df.head()\n"
   ]
  },
  {
   "cell_type": "code",
   "execution_count": 32,
   "metadata": {},
   "outputs": [],
   "source": [
    "X_texto = df['text']\n",
    "vectorizer = CountVectorizer(max_features=1500, min_df=5, max_df=0.7, stop_words=stopwords.words('english'))\n",
    "X = vectorizer.fit_transform(X_texto).toarray()"
   ]
  },
  {
   "cell_type": "markdown",
   "metadata": {},
   "source": [
    "Usamos la transformacion TFIDF para obtener un valor más representativo de la frecuencia que una palabra aparece en los textos:\n",
    "\n",
    "Term frequency = (Number of Occurrences of a word)/(Total words in the document)\n",
    "\n",
    "Inverse Document Frecuency\n",
    "IDF(word) = Log((Total number of documents)/(Number of documents containing the word))\n"
   ]
  },
  {
   "cell_type": "code",
   "execution_count": 33,
   "metadata": {},
   "outputs": [],
   "source": [
    "tfidfconverter = TfidfTransformer()\n",
    "X = tfidfconverter.fit_transform(X).toarray()"
   ]
  },
  {
   "cell_type": "markdown",
   "metadata": {},
   "source": [
    "### Conclusiones preprocesamiento de textos"
   ]
  },
  {
   "cell_type": "code",
   "execution_count": 34,
   "metadata": {},
   "outputs": [
    {
     "name": "stderr",
     "output_type": "stream",
     "text": [
      "[nltk_data] Downloading package wordnet to\n",
      "[nltk_data]     C:\\Users\\Danie\\AppData\\Roaming\\nltk_data...\n",
      "[nltk_data]   Package wordnet is already up-to-date!\n",
      "[nltk_data] Downloading package omw-1.4 to\n",
      "[nltk_data]     C:\\Users\\Danie\\AppData\\Roaming\\nltk_data...\n",
      "[nltk_data]   Package omw-1.4 is already up-to-date!\n",
      "[nltk_data] Downloading package punkt to\n",
      "[nltk_data]     C:\\Users\\Danie\\AppData\\Roaming\\nltk_data...\n",
      "[nltk_data]   Package punkt is already up-to-date!\n",
      "[nltk_data] Downloading package averaged_perceptron_tagger to\n",
      "[nltk_data]     C:\\Users\\Danie\\AppData\\Roaming\\nltk_data...\n",
      "[nltk_data]   Package averaged_perceptron_tagger is already up-to-\n",
      "[nltk_data]       date!\n",
      "[nltk_data] Downloading package brown to\n",
      "[nltk_data]     C:\\Users\\Danie\\AppData\\Roaming\\nltk_data...\n",
      "[nltk_data]   Package brown is already up-to-date!\n"
     ]
    }
   ],
   "source": [
    "import nltk\n",
    "from nltk.stem import WordNetLemmatizer\n",
    "nltk.download('wordnet')\n",
    "nltk.download('omw-1.4')\n",
    "nltk.download('punkt')\n",
    "nltk.download('averaged_perceptron_tagger')\n",
    "nltk.download('brown')\n",
    "\n",
    "stemmer = WordNetLemmatizer()\n",
    "def lemmatization(text):\n",
    "    \n",
    "    text = text.split()\n",
    "    text = [stemmer.lemmatize(word) for word in text]\n",
    "    text = ' '.join(text)\n",
    "    return text\n",
    "\n",
    "# Auxiliar function for remove all emoji characters\n",
    "# https://gist.github.com/slowkow/7a7f61f495e3dbb7e3d767f97bd7304b\n",
    "def removeEmoji(text):\n",
    "    emoji_pattern = re.compile(\"[\"\n",
    "      u\"\\U0001F600-\\U0001F64F\"  # emoticons\n",
    "      u\"\\U0001F300-\\U0001F5FF\"  # symbols & pictographs\n",
    "      u\"\\U0001F680-\\U0001F6FF\"  # transport & map symbols\n",
    "      u\"\\U0001F1E0-\\U0001F1FF\"  # flags (iOS)\n",
    "      u\"\\U00002500-\\U00002BEF\"  # chinese char\n",
    "      u\"\\U00002702-\\U000027B0\"\n",
    "      u\"\\U00002702-\\U000027B0\"\n",
    "      u\"\\U000024C2-\\U0001F251\"\n",
    "      u\"\\U0001f926-\\U0001f937\"\n",
    "      u\"\\U00010000-\\U0010ffff\"\n",
    "      u\"\\u2640-\\u2642\"\n",
    "      u\"\\u2600-\\u2B55\"\n",
    "      u\"\\u200d\"\n",
    "      u\"\\u23cf\"\n",
    "      u\"\\u23e9\"\n",
    "      u\"\\u231a\"\n",
    "      u\"\\ufe0f\"  # dingbats\n",
    "      u\"\\u3030\"\n",
    "      \"]+\", flags=re.UNICODE)\n",
    "    return emoji_pattern.sub(r'',text)\n",
    "\n",
    "# Preprocessor function\n",
    "def preprocessor2(title_text):\n",
    "\n",
    "    # Primero, segundo y cuarto, eliminiación de enlaces, menciones y hashtags - Incluimos eliminar espacios y caracteres raros\n",
    "    title_text = title_text.apply(lambda x: re.sub(r'((https|http)?:\\/\\/(\\w|\\.|\\/|\\?|\\=|\\&|\\%)*\\b)|(MENTION[0-9]*)|(#[a-zA-Z0-9]*)', ' ', x, flags=re.MULTILINE))\n",
    "    title_text = title_text.str.replace('\\n',' ')\n",
    "    title_text = title_text.str.replace('\\t',' ')\n",
    "\n",
    "    # Quitamos simbolos de puntuacion\n",
    "    title_text = title_text.str.translate(str.maketrans('', '', string.punctuation))\n",
    "\n",
    "    # Eliminamos los restos que no hayan sido eliminados y algunas expresiones que no aportan informacion\n",
    "    title_text = title_text.apply(lambda x: re.sub(r'([^0-9a-zA-Z:,\\s]+)|(rt)|(lol)|(lmao)|(lmfao)', '', x, flags=re.MULTILINE))\n",
    "\n",
    "    # Despues de eliminar los simbolos de puntuacion, eliminamos los números\n",
    "    title_text = title_text.apply(lambda x: re.sub(r'([0-9]+)', ' ', x, flags=re.MULTILINE))\n",
    "    # Tercero, eliminiación de emojis\n",
    "    title_text = title_text.apply(lambda x: removeEmoji(x))\n",
    "    # Quitamos palabras sueltas con letras repetidas\n",
    "    title_text = title_text.apply(lambda x: re.sub(r'(.)\\1{3,}', ' ', x, flags=re.MULTILINE))\n",
    "\n",
    "    # Ponemos todo en minusculas y aplicamos trim\n",
    "    title_text = title_text.str.lower()\n",
    "    title_text = title_text.str.strip()\n",
    "    # Quitamos espacios sobrantes\n",
    "    title_text = title_text.apply(lambda x: ' '.join([y for y in x.split(' ') if y != '']))\n",
    "\n",
    "    # Lematizacion\n",
    "    title_text = title_text.apply(lambda x: lemmatization(x))\n",
    "\n",
    "    return title_text"
   ]
  },
  {
   "cell_type": "markdown",
   "metadata": {},
   "source": [
    "Usos"
   ]
  },
  {
   "cell_type": "code",
   "execution_count": 35,
   "metadata": {},
   "outputs": [],
   "source": [
    "min_lenght = 10\n",
    "\n",
    "# Eliminacion de twits cortos\n",
    "df['text'] = preprocessor(df['text'])\n",
    "df = df[df['text'].str.len()>min_lenght]"
   ]
  },
  {
   "cell_type": "code",
   "execution_count": 36,
   "metadata": {},
   "outputs": [],
   "source": [
    "X_texto = df['text']\n",
    "X_texto = preprocessor(X_texto)\n",
    "\n",
    "# Bag of Words (inc. stopwords)\n",
    "vectorizer = CountVectorizer(max_features=300, min_df=5, max_df=0.7, stop_words=stopwords.words('english'))\n",
    "X = vectorizer.fit_transform(X_texto).toarray()\n",
    "\n",
    "# TFID\n",
    "tfidfconverter = TfidfTransformer()\n",
    "X = tfidfconverter.fit_transform(X).toarray()"
   ]
  },
  {
   "cell_type": "code",
   "execution_count": 37,
   "metadata": {},
   "outputs": [
    {
     "data": {
      "text/plain": [
       "(300,)"
      ]
     },
     "execution_count": 37,
     "metadata": {},
     "output_type": "execute_result"
    }
   ],
   "source": [
    "X[0].shape"
   ]
  },
  {
   "cell_type": "markdown",
   "metadata": {},
   "source": [
    "## Creación del modelo"
   ]
  },
  {
   "cell_type": "markdown",
   "metadata": {},
   "source": [
    "Con el preprocesamiento tenemos ya en el vector X las frases listas para realizar el entrenamiento"
   ]
  },
  {
   "cell_type": "code",
   "execution_count": 38,
   "metadata": {},
   "outputs": [
    {
     "data": {
      "text/plain": [
       "0        0\n",
       "1        0\n",
       "2        0\n",
       "3        0\n",
       "4        0\n",
       "        ..\n",
       "13625    0\n",
       "13626    0\n",
       "13627    0\n",
       "13629    0\n",
       "13630    0\n",
       "Name: sexist, Length: 13014, dtype: int32"
      ]
     },
     "execution_count": 38,
     "metadata": {},
     "output_type": "execute_result"
    }
   ],
   "source": [
    "# Dividimos los datos con train test split\n",
    "# X lo tenemos del preprocesamiento\n",
    "y = df['sexist']\n",
    "y = y.astype(int)\n",
    "y"
   ]
  },
  {
   "cell_type": "code",
   "execution_count": 39,
   "metadata": {},
   "outputs": [
    {
     "data": {
      "text/plain": [
       "((13014, 300), (13014,))"
      ]
     },
     "execution_count": 39,
     "metadata": {},
     "output_type": "execute_result"
    }
   ],
   "source": [
    "X.shape , y.shape"
   ]
  },
  {
   "cell_type": "code",
   "execution_count": 40,
   "metadata": {},
   "outputs": [],
   "source": [
    "X_train, X_test, y_train, y_test = train_test_split(X, y, test_size=0.3, random_state=0)"
   ]
  },
  {
   "cell_type": "markdown",
   "metadata": {},
   "source": [
    "### Modelo Random Forest"
   ]
  },
  {
   "cell_type": "code",
   "execution_count": 42,
   "metadata": {},
   "outputs": [
    {
     "data": {
      "text/plain": [
       "RandomForestClassifier(n_estimators=1000, random_state=0)"
      ]
     },
     "execution_count": 42,
     "metadata": {},
     "output_type": "execute_result"
    }
   ],
   "source": [
    "classifier = RandomForestClassifier(n_estimators=1000, random_state=0)\n",
    "classifier.fit(X_train, y_train) "
   ]
  },
  {
   "cell_type": "code",
   "execution_count": 43,
   "metadata": {},
   "outputs": [],
   "source": [
    "pred_RF = classifier.predict(X_test)"
   ]
  },
  {
   "cell_type": "markdown",
   "metadata": {},
   "source": [
    "**EVALUACION**"
   ]
  },
  {
   "cell_type": "code",
   "execution_count": 44,
   "metadata": {},
   "outputs": [
    {
     "name": "stdout",
     "output_type": "stream",
     "text": [
      "[[3200  143]\n",
      " [ 275  287]]\n",
      "              precision    recall  f1-score   support\n",
      "\n",
      "           0       0.92      0.96      0.94      3343\n",
      "           1       0.67      0.51      0.58       562\n",
      "\n",
      "    accuracy                           0.89      3905\n",
      "   macro avg       0.79      0.73      0.76      3905\n",
      "weighted avg       0.88      0.89      0.89      3905\n",
      "\n",
      "Accuracy Score: 0.8929577464788733\n"
     ]
    }
   ],
   "source": [
    "print(confusion_matrix(y_test, pred_RF))\n",
    "print(classification_report(y_test, pred_RF))\n",
    "print('Accuracy Score:', accuracy_score(y_test, pred_RF)) "
   ]
  },
  {
   "cell_type": "markdown",
   "metadata": {},
   "source": [
    "**GUARDADO DEL MODELO**"
   ]
  },
  {
   "cell_type": "code",
   "execution_count": null,
   "metadata": {},
   "outputs": [],
   "source": [
    "# Write\n",
    "with open('randomForestSimpleINT', 'wb') as picklefile:\n",
    "    pickle.dump(classifier,picklefile)"
   ]
  },
  {
   "cell_type": "code",
   "execution_count": 153,
   "metadata": {},
   "outputs": [],
   "source": [
    "# Read\n",
    "with open('randomForestSimple', 'rb') as training_model:\n",
    "    model = pickle.load(training_model)\n"
   ]
  },
  {
   "cell_type": "markdown",
   "metadata": {},
   "source": [
    "### Modelo Gaussiano (peor)"
   ]
  },
  {
   "cell_type": "code",
   "execution_count": 45,
   "metadata": {},
   "outputs": [
    {
     "data": {
      "text/plain": [
       "GaussianNB()"
      ]
     },
     "execution_count": 45,
     "metadata": {},
     "output_type": "execute_result"
    }
   ],
   "source": [
    "from sklearn.naive_bayes import GaussianNB\n",
    "# Contruimos un modelo gaussiano simple\n",
    "NB = GaussianNB()\n",
    "NB.fit(X_train, y_train)"
   ]
  },
  {
   "cell_type": "code",
   "execution_count": 46,
   "metadata": {},
   "outputs": [],
   "source": [
    "# Predecimos\n",
    "NB_pred= NB.predict(X_test)\n"
   ]
  },
  {
   "cell_type": "markdown",
   "metadata": {},
   "source": [
    "**Evaluamos**"
   ]
  },
  {
   "cell_type": "code",
   "execution_count": 47,
   "metadata": {},
   "outputs": [
    {
     "name": "stdout",
     "output_type": "stream",
     "text": [
      "[[1392 1951]\n",
      " [  50  512]]\n",
      "              precision    recall  f1-score   support\n",
      "\n",
      "           0       0.97      0.42      0.58      3343\n",
      "           1       0.21      0.91      0.34       562\n",
      "\n",
      "    accuracy                           0.49      3905\n",
      "   macro avg       0.59      0.66      0.46      3905\n",
      "weighted avg       0.86      0.49      0.55      3905\n",
      "\n",
      "Accuracy Score: 0.8929577464788733\n"
     ]
    }
   ],
   "source": [
    "print(confusion_matrix(y_test, NB_pred))\n",
    "print(classification_report(y_test, NB_pred))\n",
    "print('Accuracy Score:', accuracy_score(y_test, pred_RF)) "
   ]
  },
  {
   "cell_type": "code",
   "execution_count": 29,
   "metadata": {},
   "outputs": [],
   "source": [
    "# Write\n",
    "with open('gaussianSimple', 'wb') as picklefile:\n",
    "    pickle.dump(classifier,picklefile)"
   ]
  },
  {
   "cell_type": "markdown",
   "metadata": {},
   "source": [
    "### Logistic Regression"
   ]
  },
  {
   "cell_type": "code",
   "execution_count": 48,
   "metadata": {},
   "outputs": [],
   "source": [
    "from sklearn.linear_model import LogisticRegression\n",
    "\n",
    "\n",
    "logreg = LogisticRegression()\n",
    "\n",
    "X_train, X_test, y_train, y_test = train_test_split(X, y, test_size= 0.33, random_state=42)"
   ]
  },
  {
   "cell_type": "code",
   "execution_count": 49,
   "metadata": {},
   "outputs": [
    {
     "data": {
      "text/plain": [
       "LogisticRegression()"
      ]
     },
     "execution_count": 49,
     "metadata": {},
     "output_type": "execute_result"
    }
   ],
   "source": [
    "logreg.fit(X_train, y_train)"
   ]
  },
  {
   "cell_type": "code",
   "execution_count": 50,
   "metadata": {},
   "outputs": [
    {
     "data": {
      "text/plain": [
       "0.8873108265424913"
      ]
     },
     "execution_count": 50,
     "metadata": {},
     "output_type": "execute_result"
    }
   ],
   "source": [
    "logreg.score(X_test, y_test)"
   ]
  },
  {
   "cell_type": "code",
   "execution_count": 51,
   "metadata": {},
   "outputs": [
    {
     "name": "stdout",
     "output_type": "stream",
     "text": [
      "              precision    recall  f1-score   support\n",
      "\n",
      "           0       0.91      0.96      0.94      3718\n",
      "           1       0.62      0.41      0.49       577\n",
      "\n",
      "    accuracy                           0.89      4295\n",
      "   macro avg       0.77      0.69      0.72      4295\n",
      "weighted avg       0.87      0.89      0.88      4295\n",
      "\n"
     ]
    }
   ],
   "source": [
    "from sklearn.metrics import classification_report\n",
    "\n",
    "print(classification_report(y_test, logreg.predict(X_test)))"
   ]
  },
  {
   "cell_type": "code",
   "execution_count": 52,
   "metadata": {},
   "outputs": [
    {
     "name": "stderr",
     "output_type": "stream",
     "text": [
      "c:\\Users\\Danie\\anaconda3\\envs\\TFM_Program\\lib\\site-packages\\sklearn\\utils\\deprecation.py:87: FutureWarning: Function get_feature_names is deprecated; get_feature_names is deprecated in 1.0 and will be removed in 1.2. Please use get_feature_names_out instead.\n",
      "  warnings.warn(msg, category=FutureWarning)\n"
     ]
    },
    {
     "data": {
      "text/html": [
       "<div>\n",
       "<style scoped>\n",
       "    .dataframe tbody tr th:only-of-type {\n",
       "        vertical-align: middle;\n",
       "    }\n",
       "\n",
       "    .dataframe tbody tr th {\n",
       "        vertical-align: top;\n",
       "    }\n",
       "\n",
       "    .dataframe thead th {\n",
       "        text-align: right;\n",
       "    }\n",
       "</style>\n",
       "<table border=\"1\" class=\"dataframe\">\n",
       "  <thead>\n",
       "    <tr style=\"text-align: right;\">\n",
       "      <th></th>\n",
       "      <th>nombre_columna</th>\n",
       "      <th>coeficientes</th>\n",
       "    </tr>\n",
       "  </thead>\n",
       "  <tbody>\n",
       "    <tr>\n",
       "      <th>76</th>\n",
       "      <td>female</td>\n",
       "      <td>5.331903</td>\n",
       "    </tr>\n",
       "    <tr>\n",
       "      <th>281</th>\n",
       "      <td>woman</td>\n",
       "      <td>4.548504</td>\n",
       "    </tr>\n",
       "    <tr>\n",
       "      <th>91</th>\n",
       "      <td>girl</td>\n",
       "      <td>4.253068</td>\n",
       "    </tr>\n",
       "    <tr>\n",
       "      <th>162</th>\n",
       "      <td>men</td>\n",
       "      <td>4.170220</td>\n",
       "    </tr>\n",
       "    <tr>\n",
       "      <th>156</th>\n",
       "      <td>man</td>\n",
       "      <td>3.666417</td>\n",
       "    </tr>\n",
       "    <tr>\n",
       "      <th>...</th>\n",
       "      <td>...</td>\n",
       "      <td>...</td>\n",
       "    </tr>\n",
       "    <tr>\n",
       "      <th>4</th>\n",
       "      <td>actually</td>\n",
       "      <td>0.036290</td>\n",
       "    </tr>\n",
       "    <tr>\n",
       "      <th>79</th>\n",
       "      <td>find</td>\n",
       "      <td>0.029334</td>\n",
       "    </tr>\n",
       "    <tr>\n",
       "      <th>289</th>\n",
       "      <td>would</td>\n",
       "      <td>0.024101</td>\n",
       "    </tr>\n",
       "    <tr>\n",
       "      <th>216</th>\n",
       "      <td>seen</td>\n",
       "      <td>0.003206</td>\n",
       "    </tr>\n",
       "    <tr>\n",
       "      <th>209</th>\n",
       "      <td>said</td>\n",
       "      <td>0.000496</td>\n",
       "    </tr>\n",
       "  </tbody>\n",
       "</table>\n",
       "<p>300 rows × 2 columns</p>\n",
       "</div>"
      ],
      "text/plain": [
       "    nombre_columna  coeficientes\n",
       "76          female      5.331903\n",
       "281          woman      4.548504\n",
       "91            girl      4.253068\n",
       "162            men      4.170220\n",
       "156            man      3.666417\n",
       "..             ...           ...\n",
       "4         actually      0.036290\n",
       "79            find      0.029334\n",
       "289          would      0.024101\n",
       "216           seen      0.003206\n",
       "209           said      0.000496\n",
       "\n",
       "[300 rows x 2 columns]"
      ]
     },
     "execution_count": 52,
     "metadata": {},
     "output_type": "execute_result"
    }
   ],
   "source": [
    "import numpy as np\n",
    "coef = pd.DataFrame({\"nombre_columna\":vectorizer.get_feature_names(), \n",
    "                     \"coeficientes\" : np.abs(logreg.coef_[0])} )\n",
    "\n",
    "coef.sort_values(by = \"coeficientes\", ascending=False)"
   ]
  },
  {
   "cell_type": "markdown",
   "metadata": {},
   "source": [
    "### Modelo Random Forest (Balanceado Simple - Obs)"
   ]
  },
  {
   "cell_type": "code",
   "execution_count": 31,
   "metadata": {},
   "outputs": [
    {
     "data": {
      "text/plain": [
       "RandomForestClassifier(n_estimators=1000, random_state=0)"
      ]
     },
     "execution_count": 31,
     "metadata": {},
     "output_type": "execute_result"
    }
   ],
   "source": [
    "classifier = RandomForestClassifier(n_estimators=1000, random_state=0)\n",
    "\n",
    "#Usamos los balanceados\n",
    "# Read\n",
    "with open('X_train_balanced', 'rb') as training_model:\n",
    "    X_train_balanced = pickle.load(training_model)\n",
    "\n",
    "with open('y_train_balanced', 'rb') as training_model:\n",
    "    y_train_balanced = pickle.load(training_model)\n",
    "\n",
    "classifier.fit(X_train_balanced, y_train_balanced) "
   ]
  },
  {
   "cell_type": "code",
   "execution_count": 32,
   "metadata": {},
   "outputs": [
    {
     "name": "stdout",
     "output_type": "stream",
     "text": [
      "[[3154  208]\n",
      " [ 336  206]]\n",
      "              precision    recall  f1-score   support\n",
      "\n",
      "       False       0.90      0.94      0.92      3362\n",
      "        True       0.50      0.38      0.43       542\n",
      "\n",
      "    accuracy                           0.86      3904\n",
      "   macro avg       0.70      0.66      0.68      3904\n",
      "weighted avg       0.85      0.86      0.85      3904\n",
      "\n",
      "Accuracy Score: 0.860655737704918\n"
     ]
    }
   ],
   "source": [
    "pred_RF = classifier.predict(X_test)\n",
    "print(confusion_matrix(y_test, pred_RF))\n",
    "print(classification_report(y_test, pred_RF))\n",
    "print('Accuracy Score:', accuracy_score(y_test, pred_RF)) "
   ]
  },
  {
   "cell_type": "markdown",
   "metadata": {},
   "source": []
  },
  {
   "cell_type": "code",
   "execution_count": null,
   "metadata": {},
   "outputs": [],
   "source": []
  }
 ],
 "metadata": {
  "kernelspec": {
   "display_name": "Python 3.7.13 ('TFM_Program')",
   "language": "python",
   "name": "python3"
  },
  "language_info": {
   "codemirror_mode": {
    "name": "ipython",
    "version": 3
   },
   "file_extension": ".py",
   "mimetype": "text/x-python",
   "name": "python",
   "nbconvert_exporter": "python",
   "pygments_lexer": "ipython3",
   "version": "3.7.13"
  },
  "orig_nbformat": 4,
  "vscode": {
   "interpreter": {
    "hash": "629fff6fe8d3806c16cab7ea8cbccd771448b9074da27de7271608d9272feb37"
   }
  }
 },
 "nbformat": 4,
 "nbformat_minor": 2
}
