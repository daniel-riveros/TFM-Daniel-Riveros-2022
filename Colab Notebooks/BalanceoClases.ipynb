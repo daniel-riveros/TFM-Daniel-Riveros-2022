{
  "nbformat": 4,
  "nbformat_minor": 0,
  "metadata": {
    "colab": {
      "provenance": []
    },
    "kernelspec": {
      "name": "python3",
      "display_name": "Python 3"
    },
    "language_info": {
      "name": "python"
    },
    "widgets": {
      "application/vnd.jupyter.widget-state+json": {
        "fd33879839bc4ae296d56c72daf1d60b": {
          "model_module": "@jupyter-widgets/controls",
          "model_name": "HBoxModel",
          "model_module_version": "1.5.0",
          "state": {
            "_dom_classes": [],
            "_model_module": "@jupyter-widgets/controls",
            "_model_module_version": "1.5.0",
            "_model_name": "HBoxModel",
            "_view_count": null,
            "_view_module": "@jupyter-widgets/controls",
            "_view_module_version": "1.5.0",
            "_view_name": "HBoxView",
            "box_style": "",
            "children": [
              "IPY_MODEL_3d2d485956984913994180b8782e4a45",
              "IPY_MODEL_3733d6f853e5431080bc532c0bb5512c",
              "IPY_MODEL_9c29b62a68674542af7d55550a83a547"
            ],
            "layout": "IPY_MODEL_1529311876064d08b6df6d22fa59be01"
          }
        },
        "3d2d485956984913994180b8782e4a45": {
          "model_module": "@jupyter-widgets/controls",
          "model_name": "HTMLModel",
          "model_module_version": "1.5.0",
          "state": {
            "_dom_classes": [],
            "_model_module": "@jupyter-widgets/controls",
            "_model_module_version": "1.5.0",
            "_model_name": "HTMLModel",
            "_view_count": null,
            "_view_module": "@jupyter-widgets/controls",
            "_view_module_version": "1.5.0",
            "_view_name": "HTMLView",
            "description": "",
            "description_tooltip": null,
            "layout": "IPY_MODEL_0244d33ed3174673abc52281528ff313",
            "placeholder": "​",
            "style": "IPY_MODEL_95be62bbe58f475497639cb7fe859b3f",
            "value": ""
          }
        },
        "3733d6f853e5431080bc532c0bb5512c": {
          "model_module": "@jupyter-widgets/controls",
          "model_name": "FloatProgressModel",
          "model_module_version": "1.5.0",
          "state": {
            "_dom_classes": [],
            "_model_module": "@jupyter-widgets/controls",
            "_model_module_version": "1.5.0",
            "_model_name": "FloatProgressModel",
            "_view_count": null,
            "_view_module": "@jupyter-widgets/controls",
            "_view_module_version": "1.5.0",
            "_view_name": "ProgressView",
            "bar_style": "success",
            "description": "",
            "description_tooltip": null,
            "layout": "IPY_MODEL_dd640086edde4eb6bdb589f8163b4291",
            "max": 1,
            "min": 0,
            "orientation": "horizontal",
            "style": "IPY_MODEL_e2cb358268594052ac07e0d1a18107f5",
            "value": 0
          }
        },
        "9c29b62a68674542af7d55550a83a547": {
          "model_module": "@jupyter-widgets/controls",
          "model_name": "HTMLModel",
          "model_module_version": "1.5.0",
          "state": {
            "_dom_classes": [],
            "_model_module": "@jupyter-widgets/controls",
            "_model_module_version": "1.5.0",
            "_model_name": "HTMLModel",
            "_view_count": null,
            "_view_module": "@jupyter-widgets/controls",
            "_view_module_version": "1.5.0",
            "_view_name": "HTMLView",
            "description": "",
            "description_tooltip": null,
            "layout": "IPY_MODEL_3b166a0ae16f418695ed50f2b2c887a3",
            "placeholder": "​",
            "style": "IPY_MODEL_f70baf9352994ef39688116a71ccda94",
            "value": " 0/0 [00:00&lt;?, ?it/s]"
          }
        },
        "1529311876064d08b6df6d22fa59be01": {
          "model_module": "@jupyter-widgets/base",
          "model_name": "LayoutModel",
          "model_module_version": "1.2.0",
          "state": {
            "_model_module": "@jupyter-widgets/base",
            "_model_module_version": "1.2.0",
            "_model_name": "LayoutModel",
            "_view_count": null,
            "_view_module": "@jupyter-widgets/base",
            "_view_module_version": "1.2.0",
            "_view_name": "LayoutView",
            "align_content": null,
            "align_items": null,
            "align_self": null,
            "border": null,
            "bottom": null,
            "display": null,
            "flex": null,
            "flex_flow": null,
            "grid_area": null,
            "grid_auto_columns": null,
            "grid_auto_flow": null,
            "grid_auto_rows": null,
            "grid_column": null,
            "grid_gap": null,
            "grid_row": null,
            "grid_template_areas": null,
            "grid_template_columns": null,
            "grid_template_rows": null,
            "height": null,
            "justify_content": null,
            "justify_items": null,
            "left": null,
            "margin": null,
            "max_height": null,
            "max_width": null,
            "min_height": null,
            "min_width": null,
            "object_fit": null,
            "object_position": null,
            "order": null,
            "overflow": null,
            "overflow_x": null,
            "overflow_y": null,
            "padding": null,
            "right": null,
            "top": null,
            "visibility": null,
            "width": null
          }
        },
        "0244d33ed3174673abc52281528ff313": {
          "model_module": "@jupyter-widgets/base",
          "model_name": "LayoutModel",
          "model_module_version": "1.2.0",
          "state": {
            "_model_module": "@jupyter-widgets/base",
            "_model_module_version": "1.2.0",
            "_model_name": "LayoutModel",
            "_view_count": null,
            "_view_module": "@jupyter-widgets/base",
            "_view_module_version": "1.2.0",
            "_view_name": "LayoutView",
            "align_content": null,
            "align_items": null,
            "align_self": null,
            "border": null,
            "bottom": null,
            "display": null,
            "flex": null,
            "flex_flow": null,
            "grid_area": null,
            "grid_auto_columns": null,
            "grid_auto_flow": null,
            "grid_auto_rows": null,
            "grid_column": null,
            "grid_gap": null,
            "grid_row": null,
            "grid_template_areas": null,
            "grid_template_columns": null,
            "grid_template_rows": null,
            "height": null,
            "justify_content": null,
            "justify_items": null,
            "left": null,
            "margin": null,
            "max_height": null,
            "max_width": null,
            "min_height": null,
            "min_width": null,
            "object_fit": null,
            "object_position": null,
            "order": null,
            "overflow": null,
            "overflow_x": null,
            "overflow_y": null,
            "padding": null,
            "right": null,
            "top": null,
            "visibility": null,
            "width": null
          }
        },
        "95be62bbe58f475497639cb7fe859b3f": {
          "model_module": "@jupyter-widgets/controls",
          "model_name": "DescriptionStyleModel",
          "model_module_version": "1.5.0",
          "state": {
            "_model_module": "@jupyter-widgets/controls",
            "_model_module_version": "1.5.0",
            "_model_name": "DescriptionStyleModel",
            "_view_count": null,
            "_view_module": "@jupyter-widgets/base",
            "_view_module_version": "1.2.0",
            "_view_name": "StyleView",
            "description_width": ""
          }
        },
        "dd640086edde4eb6bdb589f8163b4291": {
          "model_module": "@jupyter-widgets/base",
          "model_name": "LayoutModel",
          "model_module_version": "1.2.0",
          "state": {
            "_model_module": "@jupyter-widgets/base",
            "_model_module_version": "1.2.0",
            "_model_name": "LayoutModel",
            "_view_count": null,
            "_view_module": "@jupyter-widgets/base",
            "_view_module_version": "1.2.0",
            "_view_name": "LayoutView",
            "align_content": null,
            "align_items": null,
            "align_self": null,
            "border": null,
            "bottom": null,
            "display": null,
            "flex": null,
            "flex_flow": null,
            "grid_area": null,
            "grid_auto_columns": null,
            "grid_auto_flow": null,
            "grid_auto_rows": null,
            "grid_column": null,
            "grid_gap": null,
            "grid_row": null,
            "grid_template_areas": null,
            "grid_template_columns": null,
            "grid_template_rows": null,
            "height": null,
            "justify_content": null,
            "justify_items": null,
            "left": null,
            "margin": null,
            "max_height": null,
            "max_width": null,
            "min_height": null,
            "min_width": null,
            "object_fit": null,
            "object_position": null,
            "order": null,
            "overflow": null,
            "overflow_x": null,
            "overflow_y": null,
            "padding": null,
            "right": null,
            "top": null,
            "visibility": null,
            "width": "20px"
          }
        },
        "e2cb358268594052ac07e0d1a18107f5": {
          "model_module": "@jupyter-widgets/controls",
          "model_name": "ProgressStyleModel",
          "model_module_version": "1.5.0",
          "state": {
            "_model_module": "@jupyter-widgets/controls",
            "_model_module_version": "1.5.0",
            "_model_name": "ProgressStyleModel",
            "_view_count": null,
            "_view_module": "@jupyter-widgets/base",
            "_view_module_version": "1.2.0",
            "_view_name": "StyleView",
            "bar_color": null,
            "description_width": ""
          }
        },
        "3b166a0ae16f418695ed50f2b2c887a3": {
          "model_module": "@jupyter-widgets/base",
          "model_name": "LayoutModel",
          "model_module_version": "1.2.0",
          "state": {
            "_model_module": "@jupyter-widgets/base",
            "_model_module_version": "1.2.0",
            "_model_name": "LayoutModel",
            "_view_count": null,
            "_view_module": "@jupyter-widgets/base",
            "_view_module_version": "1.2.0",
            "_view_name": "LayoutView",
            "align_content": null,
            "align_items": null,
            "align_self": null,
            "border": null,
            "bottom": null,
            "display": null,
            "flex": null,
            "flex_flow": null,
            "grid_area": null,
            "grid_auto_columns": null,
            "grid_auto_flow": null,
            "grid_auto_rows": null,
            "grid_column": null,
            "grid_gap": null,
            "grid_row": null,
            "grid_template_areas": null,
            "grid_template_columns": null,
            "grid_template_rows": null,
            "height": null,
            "justify_content": null,
            "justify_items": null,
            "left": null,
            "margin": null,
            "max_height": null,
            "max_width": null,
            "min_height": null,
            "min_width": null,
            "object_fit": null,
            "object_position": null,
            "order": null,
            "overflow": null,
            "overflow_x": null,
            "overflow_y": null,
            "padding": null,
            "right": null,
            "top": null,
            "visibility": null,
            "width": null
          }
        },
        "f70baf9352994ef39688116a71ccda94": {
          "model_module": "@jupyter-widgets/controls",
          "model_name": "DescriptionStyleModel",
          "model_module_version": "1.5.0",
          "state": {
            "_model_module": "@jupyter-widgets/controls",
            "_model_module_version": "1.5.0",
            "_model_name": "DescriptionStyleModel",
            "_view_count": null,
            "_view_module": "@jupyter-widgets/base",
            "_view_module_version": "1.2.0",
            "_view_name": "StyleView",
            "description_width": ""
          }
        }
      }
    }
  },
  "cells": [
    {
      "cell_type": "markdown",
      "source": [
        "# Balanceo de clases"
      ],
      "metadata": {
        "id": "V8OFS_rk4AYV"
      }
    },
    {
      "cell_type": "markdown",
      "source": [
        "## Introducción. Preparación de librerias"
      ],
      "metadata": {
        "id": "sxb2mEpS6szy"
      }
    },
    {
      "cell_type": "markdown",
      "source": [
        "Usaremos la libreria de textattack para construir nuestro nuevo dataset que tenga las dos clases balanceadas"
      ],
      "metadata": {
        "id": "w3URq4Dc35Nr"
      }
    },
    {
      "cell_type": "code",
      "execution_count": null,
      "metadata": {
        "id": "45UznQrz312H"
      },
      "outputs": [],
      "source": [
        "!pip install textattack[tensorflow]"
      ]
    },
    {
      "cell_type": "markdown",
      "source": [
        "Vamos a usar herramientas preentrenadas para realizar las transformaciones en nuestro conjunto de datos\n",
        "\n",
        "Todas las disponibles están disponibles en el siguiente enlace:\n",
        "\n",
        "https://textattack.readthedocs.io/en/latest/3recipes/augmenter_recipes.html\n",
        "\n",
        "Resumen:\n",
        "Esta librería incorpora diferentes soluciones para el data augmentation. Las que incluye son:\n",
        "\n",
        "1) WordNetAugmenter: replacing words with synonyms\n",
        "\n",
        "2) EmbeddingAugmenter: replacing words with neighbors in the counter-fitted embedding space\n",
        "\n",
        "3) CharSwapAugmenter: It augments text by substituting, deleting, inserting, and swapping adjacent characters\n",
        "\n",
        "4) EasyDataAugmenter: augments text with a combination of word insertions, substitutions, and deletions.\n",
        "\n",
        "5) CheckListAugmenter: It augments text by contraction/extension and by substituting names, locations and numbers.\n",
        "\n",
        "6) CLAREAugmenter: It augments text by replacing, inserting, and merging with a pre-trained masked language model."
      ],
      "metadata": {
        "id": "snz1GFcz5eCl"
      }
    },
    {
      "cell_type": "markdown",
      "source": [
        "Nosotros vamos a usar por ejemplo EmbeddingAugmenter, un ejemplo sencillo:"
      ],
      "metadata": {
        "id": "N44Omquy5weg"
      }
    },
    {
      "cell_type": "code",
      "source": [
        "# Import, debe cargar más datos\n",
        "from textattack.augmentation import EmbeddingAugmenter"
      ],
      "metadata": {
        "colab": {
          "base_uri": "https://localhost:8080/",
          "height": 329,
          "referenced_widgets": [
            "fd33879839bc4ae296d56c72daf1d60b",
            "3d2d485956984913994180b8782e4a45",
            "3733d6f853e5431080bc532c0bb5512c",
            "9c29b62a68674542af7d55550a83a547",
            "1529311876064d08b6df6d22fa59be01",
            "0244d33ed3174673abc52281528ff313",
            "95be62bbe58f475497639cb7fe859b3f",
            "dd640086edde4eb6bdb589f8163b4291",
            "e2cb358268594052ac07e0d1a18107f5",
            "3b166a0ae16f418695ed50f2b2c887a3",
            "f70baf9352994ef39688116a71ccda94"
          ]
        },
        "id": "F-5c-eKq5mp4",
        "outputId": "8e6d6d18-3143-4cda-8306-d078f89fecc8"
      },
      "execution_count": null,
      "outputs": [
        {
          "output_type": "stream",
          "name": "stderr",
          "text": [
            "textattack: Updating TextAttack package dependencies.\n",
            "textattack: Downloading NLTK required packages.\n",
            "[nltk_data] Downloading package averaged_perceptron_tagger to\n",
            "[nltk_data]     /root/nltk_data...\n",
            "[nltk_data]   Unzipping taggers/averaged_perceptron_tagger.zip.\n",
            "[nltk_data] Downloading package stopwords to /root/nltk_data...\n",
            "[nltk_data]   Unzipping corpora/stopwords.zip.\n",
            "[nltk_data] Downloading package omw to /root/nltk_data...\n",
            "[nltk_data] Downloading package universal_tagset to /root/nltk_data...\n",
            "[nltk_data]   Unzipping taggers/universal_tagset.zip.\n",
            "[nltk_data] Downloading package wordnet to /root/nltk_data...\n",
            "[nltk_data] Downloading package punkt to /root/nltk_data...\n",
            "[nltk_data]   Unzipping tokenizers/punkt.zip.\n",
            "The cache for model files in Transformers v4.22.0 has been updated. Migrating your old cache. This is a one-time only operation. You can interrupt this and resume the migration later on by calling `transformers.utils.move_cache()`.\n"
          ]
        },
        {
          "output_type": "stream",
          "name": "stdout",
          "text": [
            "Moving 0 files to the new cache system\n"
          ]
        },
        {
          "output_type": "display_data",
          "data": {
            "text/plain": [
              "0it [00:00, ?it/s]"
            ],
            "application/vnd.jupyter.widget-view+json": {
              "version_major": 2,
              "version_minor": 0,
              "model_id": "fd33879839bc4ae296d56c72daf1d60b"
            }
          },
          "metadata": {}
        }
      ]
    },
    {
      "cell_type": "code",
      "source": [
        "from textattack.augmentation import EmbeddingAugmenter\n",
        "augmenter = EmbeddingAugmenter()\n",
        "s = 'What I cannot create, I do not understand.'\n",
        "augmenter.augment(s)"
      ],
      "metadata": {
        "colab": {
          "base_uri": "https://localhost:8080/"
        },
        "id": "s96l-ZZv6R9e",
        "outputId": "f7b554c4-8d8a-4b54-a3e8-fd066f9e181b"
      },
      "execution_count": null,
      "outputs": [
        {
          "output_type": "stream",
          "name": "stderr",
          "text": [
            "textattack: Downloading https://textattack.s3.amazonaws.com/word_embeddings/paragramcf.\n",
            "100%|██████████| 481M/481M [00:36<00:00, 13.1MB/s]\n",
            "textattack: Unzipping file /root/.cache/textattack/tmp8mrovtk0.zip to /root/.cache/textattack/word_embeddings/paragramcf.\n",
            "textattack: Successfully saved word_embeddings/paragramcf to cache.\n"
          ]
        },
        {
          "output_type": "execute_result",
          "data": {
            "text/plain": [
              "['What I notable create, I do not understand.']"
            ]
          },
          "metadata": {},
          "execution_count": 3
        }
      ]
    },
    {
      "cell_type": "markdown",
      "source": [
        "## Carga de datos"
      ],
      "metadata": {
        "id": "JZpyGV-T6wVq"
      }
    },
    {
      "cell_type": "markdown",
      "source": [
        "Haremos un primer ejemplo con los datos de nuestro problema para comprobar que nos sirve\n",
        "\n"
      ],
      "metadata": {
        "id": "VHaSAkoN6-48"
      }
    },
    {
      "cell_type": "code",
      "source": [
        "# Imports\n",
        "import pandas as pd\n",
        "import numpy as np"
      ],
      "metadata": {
        "id": "YQloxqYy7Pky"
      },
      "execution_count": null,
      "outputs": []
    },
    {
      "cell_type": "code",
      "source": [
        "# Load\n",
        "df = pd.read_csv(\"/content/sexism_data.csv\")\n",
        "\n",
        "df = df[['text', 'sexist']]\n",
        "df['sexist'].value_counts()"
      ],
      "metadata": {
        "colab": {
          "base_uri": "https://localhost:8080/"
        },
        "id": "JC30eO0260CU",
        "outputId": "44763bcc-a56c-4d08-cd7e-75061129a477"
      },
      "execution_count": null,
      "outputs": [
        {
          "output_type": "execute_result",
          "data": {
            "text/plain": [
              "False    11822\n",
              "True      1809\n",
              "Name: sexist, dtype: int64"
            ]
          },
          "metadata": {},
          "execution_count": 7
        }
      ]
    },
    {
      "cell_type": "code",
      "source": [
        "# Imports de preprocesamiento de textos\n",
        "import re\n",
        "import string"
      ],
      "metadata": {
        "id": "VwkgxYO37hBI"
      },
      "execution_count": null,
      "outputs": []
    },
    {
      "cell_type": "code",
      "source": [
        "# Auxiliar function for remove all emoji characters\n",
        "# https://gist.github.com/slowkow/7a7f61f495e3dbb7e3d767f97bd7304b\n",
        "def removeEmoji(text):\n",
        "    emoji_pattern = re.compile(\"[\"\n",
        "      u\"\\U0001F600-\\U0001F64F\"  # emoticons\n",
        "      u\"\\U0001F300-\\U0001F5FF\"  # symbols & pictographs\n",
        "      u\"\\U0001F680-\\U0001F6FF\"  # transport & map symbols\n",
        "      u\"\\U0001F1E0-\\U0001F1FF\"  # flags (iOS)\n",
        "      u\"\\U00002500-\\U00002BEF\"  # chinese char\n",
        "      u\"\\U00002702-\\U000027B0\"\n",
        "      u\"\\U00002702-\\U000027B0\"\n",
        "      u\"\\U000024C2-\\U0001F251\"\n",
        "      u\"\\U0001f926-\\U0001f937\"\n",
        "      u\"\\U00010000-\\U0010ffff\"\n",
        "      u\"\\u2640-\\u2642\"\n",
        "      u\"\\u2600-\\u2B55\"\n",
        "      u\"\\u200d\"\n",
        "      u\"\\u23cf\"\n",
        "      u\"\\u23e9\"\n",
        "      u\"\\u231a\"\n",
        "      u\"\\ufe0f\"  # dingbats\n",
        "      u\"\\u3030\"\n",
        "      \"]+\", flags=re.UNICODE)\n",
        "    return emoji_pattern.sub(r'',text)\n",
        "\n",
        "# Preprocessor function\n",
        "def preprocessor2(title_text):\n",
        "\n",
        "    # Primero, segundo y cuarto, eliminiación de enlaces, menciones y hashtags - Incluimos eliminar espacios y caracteres raros\n",
        "    title_text = title_text.apply(lambda x: re.sub(r'((https|http)?:\\/\\/(\\w|\\.|\\/|\\?|\\=|\\&|\\%)*\\b)|(MENTION[0-9]*)|(#[a-zA-Z0-9]*)', ' ', x, flags=re.MULTILINE))\n",
        "    title_text = title_text.str.replace('\\n',' ')\n",
        "    title_text = title_text.str.replace('\\t',' ')\n",
        "\n",
        "    # Quitamos simbolos de puntuacion\n",
        "    title_text = title_text.str.translate(str.maketrans('', '', string.punctuation))\n",
        "\n",
        "    # Eliminamos los restos que no hayan sido eliminados y algunas expresiones que no aportan informacion\n",
        "    title_text = title_text.apply(lambda x: re.sub(r'([^0-9a-zA-Z:,\\s]+)|(rt)|(lol)|(lmao)|(lmfao)', '', x, flags=re.MULTILINE))\n",
        "\n",
        "    # Despues de eliminar los simbolos de puntuacion, eliminamos los números\n",
        "    title_text = title_text.apply(lambda x: re.sub(r'([0-9]+)', ' ', x, flags=re.MULTILINE))\n",
        "    # Tercero, eliminiación de emojis\n",
        "    title_text = title_text.apply(lambda x: removeEmoji(x))\n",
        "    # Quitamos palabras sueltas con letras repetidas\n",
        "    title_text = title_text.apply(lambda x: re.sub(r'(.)\\1{3,}', ' ', x, flags=re.MULTILINE))\n",
        "\n",
        "    # Ponemos todo en minusculas y aplicamos trim\n",
        "    title_text = title_text.str.lower()\n",
        "    title_text = title_text.str.strip()\n",
        "    # Quitamos espacios sobrantes\n",
        "    title_text = title_text.apply(lambda x: ' '.join([y for y in x.split(' ') if y != '']))\n",
        "\n",
        "    return title_text"
      ],
      "metadata": {
        "id": "vpoHysaz7Z1K"
      },
      "execution_count": null,
      "outputs": []
    },
    {
      "cell_type": "code",
      "source": [
        "# Aplicamos a nuestro dataset. Eliminamos twits vacios y que no tengan mucho significado\n",
        "min_lenght = 10\n",
        "\n",
        "# Eliminacion de palabras sueltas\n",
        "df['text'] = preprocessor2(df['text'])\n",
        "df = df[df['text'].str.len()>min_lenght]"
      ],
      "metadata": {
        "id": "8ioPfNMj7rA6"
      },
      "execution_count": null,
      "outputs": []
    },
    {
      "cell_type": "code",
      "source": [
        "# Datos tras el filtrado\n",
        "df['sexist'].value_counts()"
      ],
      "metadata": {
        "colab": {
          "base_uri": "https://localhost:8080/"
        },
        "id": "DOCvNpXT72v3",
        "outputId": "cbc0cc27-029e-4c64-a592-bd61109e2e32"
      },
      "execution_count": null,
      "outputs": [
        {
          "output_type": "execute_result",
          "data": {
            "text/plain": [
              "False    11218\n",
              "True      1807\n",
              "Name: sexist, dtype: int64"
            ]
          },
          "metadata": {},
          "execution_count": 58
        }
      ]
    },
    {
      "cell_type": "markdown",
      "source": [
        "Para este ejemplo vamos a usar WordNetAugmenter, el cual nos parece más interesante para este ejemplo"
      ],
      "metadata": {
        "id": "KGjNyAbj8xD2"
      }
    },
    {
      "cell_type": "code",
      "source": [
        "from textattack.augmentation import WordNetAugmenter\n",
        "augmenter = WordNetAugmenter(pct_words_to_swap=0.4, transformations_per_example=3)"
      ],
      "metadata": {
        "colab": {
          "base_uri": "https://localhost:8080/"
        },
        "id": "XzpkAYdi9CKU",
        "outputId": "d2f65ee6-c0a4-4a98-9b0d-abb97c3f4fb5"
      },
      "execution_count": null,
      "outputs": [
        {
          "output_type": "stream",
          "name": "stderr",
          "text": [
            "[nltk_data] Downloading package omw-1.4 to /root/nltk_data...\n"
          ]
        }
      ]
    },
    {
      "cell_type": "code",
      "source": [
        "s = df['text'][0]\n",
        "saug = augmenter.augment(s)"
      ],
      "metadata": {
        "id": "VVb808y47_O2"
      },
      "execution_count": null,
      "outputs": []
    },
    {
      "cell_type": "code",
      "source": [
        "s, saug"
      ],
      "metadata": {
        "colab": {
          "base_uri": "https://localhost:8080/"
        },
        "id": "ctV9spFP8IiM",
        "outputId": "e5c7b407-7819-4ac7-8a3e-ac218c278877"
      },
      "execution_count": null,
      "outputs": [
        {
          "output_type": "execute_result",
          "data": {
            "text/plain": [
              "('i didnt even know random was an option',\n",
              " ['i didnt still live random was an choice',\n",
              "  'i didnt tied bed random was an alternative',\n",
              "  'i didnt tied screw random was an choice'])"
            ]
          },
          "metadata": {},
          "execution_count": 25
        }
      ]
    },
    {
      "cell_type": "markdown",
      "source": [
        "Podemos comprobar como cambia la frase un poco de forma que podamos aumentar de forma considerable los ejemplos de la clase minoritaría para realizar un entrenamiento más equilibrado\n"
      ],
      "metadata": {
        "id": "XpHo-OpJ8OB2"
      }
    },
    {
      "cell_type": "code",
      "source": [],
      "metadata": {
        "id": "ty7xDUWf8aTv"
      },
      "execution_count": null,
      "outputs": []
    },
    {
      "cell_type": "markdown",
      "source": [
        "## Aplicación a nuestro dataset"
      ],
      "metadata": {
        "id": "gG_nRjnn_Bzh"
      }
    },
    {
      "cell_type": "markdown",
      "source": [
        "Ampliaremos nuestro dataset conforme nos haga falta, habiendo estudiado el dataset podemos comprobar como nos hará falta como 6 veces más de ejemplos en nuestra clase minoritaria para conseguir los resultados que queremos\n",
        "\n",
        "Usaremos de referencia que encontramos en el siguiente GitHub:\n",
        "\n",
        "https://github.com/kothiyayogesh/medium-article-code/tree/master/How%20I%20dealt%20with%20Imbalanced%20text%20dataset\n"
      ],
      "metadata": {
        "id": "NDYIdB_t_F49"
      }
    },
    {
      "cell_type": "code",
      "source": [
        "# Imports\n",
        "import math\n",
        "import tqdm\n",
        "import operator"
      ],
      "metadata": {
        "id": "MFwqUwE0_Ye9"
      },
      "execution_count": null,
      "outputs": []
    },
    {
      "cell_type": "markdown",
      "source": [
        "Usaremos la versión del código expuesto para aplicar el aumento de datos"
      ],
      "metadata": {
        "id": "9MAKF5Lo_mZ_"
      }
    },
    {
      "cell_type": "code",
      "source": [
        "# Controlamos la variable que queremos balancear\n",
        "sexist_count = df.sexist.value_counts().to_dict()\n",
        "# Guardamos el maximo de las clases, en este caso la falsa\n",
        "max_sexist_count = max(sexist_count.items(), key=operator.itemgetter(1))[1]\n",
        "\n",
        "sexist_count, max_sexist_count"
      ],
      "metadata": {
        "colab": {
          "base_uri": "https://localhost:8080/"
        },
        "id": "x7RllXR0B68D",
        "outputId": "f7edd2f8-1b9d-43bf-b0fd-de2562cce545"
      },
      "execution_count": null,
      "outputs": [
        {
          "output_type": "execute_result",
          "data": {
            "text/plain": [
              "({False: 11220, True: 1807}, 11220)"
            ]
          },
          "metadata": {},
          "execution_count": 45
        }
      ]
    },
    {
      "cell_type": "code",
      "source": [
        "newdf1 = pd.DataFrame()\n",
        "# Aplicamos para cada clase, en nuestro caso solo usaremos la clase positiva\n",
        "for sexist, count in sexist_count.items() :\n",
        "  \n",
        "    count_diff = max_sexist_count - count    ## Diferencia entre las clases\n",
        "    multiplication_count = math.ceil((count_diff)/count)  ## Calculamos con una multiplicacion el número de veces que se va a aplicar data augmentation a cada frase\n",
        "\n",
        "    # Si el indice de multiplicación es mayor que 0, aplicamos la función de aumento de datos\n",
        "    if (multiplication_count > 0) :\n",
        "      # Creación de nuestro data augmenter\n",
        "      augmenter = WordNetAugmenter(pct_words_to_swap=0.4, transformations_per_example=multiplication_count+ int(multiplication_count/2)) # creamos un 50% mas de ejemplos y luego los elegimos aleatoriamente\n",
        "\n",
        "      # Variables de control\n",
        "      old_text_df = pd.DataFrame()\n",
        "      new_text_df = pd.DataFrame()  \n",
        "\n",
        "      # Recorremos todos los textos que tenemos disponibles\n",
        "      for text in tqdm.tqdm(df[df[\"sexist\"] == sexist][\"text\"]) :\n",
        "        ## Asignamos el ejemplo base al nuevo dataframe\n",
        "        dummy1 = pd.DataFrame([text], columns=['text'])\n",
        "        dummy1[\"sexist\"] = sexist\n",
        "        old_text_df = old_text_df.append(dummy1)\n",
        "\n",
        "        ## Creamos con data augmnentation las nuevas frases\n",
        "        new_messages = augmenter.augment(text)\n",
        "        dummy2 = pd.DataFrame(new_messages, columns=['text'])\n",
        "        # Le ponemos la misma etiqueta\n",
        "        dummy2[\"sexist\"] = sexist\n",
        "        new_text_df = new_text_df.append(dummy2)\n",
        "\n",
        "      ## Select random data points from augmented data\n",
        "      new_text_df=new_text_df.take(np.random.permutation(len(new_text_df))[:count_diff])\n",
        "      \n",
        "      ## Merge existing and augmented data points\n",
        "      newdf1 = newdf1.append([old_text_df,new_text_df])\n",
        "\n",
        "    # Si la clase no es minoritaria no hace nada\n",
        "    else :\n",
        "        newdf1 = newdf1.append(df[df[\"sexist\"] == sexist])\n"
      ],
      "metadata": {
        "colab": {
          "base_uri": "https://localhost:8080/"
        },
        "id": "iuEF6Shy_D3J",
        "outputId": "2ebbdd63-2c8f-4d7a-8c6a-42b40a7585c8"
      },
      "execution_count": null,
      "outputs": [
        {
          "output_type": "stream",
          "name": "stderr",
          "text": [
            "[nltk_data] Downloading package omw-1.4 to /root/nltk_data...\n",
            "[nltk_data]   Package omw-1.4 is already up-to-date!\n",
            "100%|██████████| 1807/1807 [24:47<00:00,  1.21it/s]\n"
          ]
        }
      ]
    },
    {
      "cell_type": "code",
      "source": [
        "df.shape"
      ],
      "metadata": {
        "colab": {
          "base_uri": "https://localhost:8080/"
        },
        "id": "VKnm7NAkOWCv",
        "outputId": "73157191-6f92-4f4a-a302-71e3456121b8"
      },
      "execution_count": null,
      "outputs": [
        {
          "output_type": "execute_result",
          "data": {
            "text/plain": [
              "(13023, 2)"
            ]
          },
          "metadata": {},
          "execution_count": 75
        }
      ]
    },
    {
      "cell_type": "code",
      "source": [
        "newdf1['sexist'].value_counts()"
      ],
      "metadata": {
        "colab": {
          "base_uri": "https://localhost:8080/"
        },
        "id": "JFyEJUZxOKmS",
        "outputId": "e9c8e12f-3af2-42b0-e5ef-f42ee7fa28d5"
      },
      "execution_count": null,
      "outputs": [
        {
          "output_type": "execute_result",
          "data": {
            "text/plain": [
              "True     11220\n",
              "False    11216\n",
              "Name: sexist, dtype: int64"
            ]
          },
          "metadata": {},
          "execution_count": 81
        }
      ]
    },
    {
      "cell_type": "code",
      "source": [
        "newdf1.to_csv('/content/sexism_data_balanced.csv', index=False)"
      ],
      "metadata": {
        "id": "QWIjWrCDOOra"
      },
      "execution_count": null,
      "outputs": []
    },
    {
      "cell_type": "code",
      "source": [],
      "metadata": {
        "id": "daulx9XAVmuJ"
      },
      "execution_count": null,
      "outputs": []
    }
  ]
}